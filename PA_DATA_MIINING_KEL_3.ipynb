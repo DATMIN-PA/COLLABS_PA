{
  "nbformat": 4,
  "nbformat_minor": 0,
  "metadata": {
    "colab": {
      "provenance": [],
      "collapsed_sections": [
        "llL0UWE4B_VU",
        "nlbcNFe7CLP9",
        "Qkg_D9Ek_Y5E",
        "4xmERWLmd3Ke"
      ],
      "include_colab_link": true
    },
    "kernelspec": {
      "name": "python3",
      "display_name": "Python 3"
    },
    "language_info": {
      "name": "python"
    }
  },
  "cells": [
    {
      "cell_type": "markdown",
      "metadata": {
        "id": "view-in-github",
        "colab_type": "text"
      },
      "source": [
        "<a href=\"https://colab.research.google.com/github/zackoflonely/DatMin_PA/blob/main/PA_DATA_MIINING_KEL_3.ipynb\" target=\"_parent\"><img src=\"https://colab.research.google.com/assets/colab-badge.svg\" alt=\"Open In Colab\"/></a>"
      ]
    },
    {
      "cell_type": "markdown",
      "source": [
        "# **Pengolahan Data Menggunakan Metode Supervised Learning pada Data Pinjaman Nasabah**"
      ],
      "metadata": {
        "id": "PxZje3csHTfu"
      }
    },
    {
      "cell_type": "markdown",
      "source": [
        "# A2 Kelompok 3\n",
        "Nama Anggota:\n",
        "\n",
        "\n",
        "1.   Zaki Fauzan Rabbani\n",
        "2.   Ferryza Nurwahyu\n",
        "3.   Andi Abdurrahman\n",
        "\n",
        "\n",
        "\n",
        "\n",
        "\n"
      ],
      "metadata": {
        "id": "pC8xXmAgAkQE"
      }
    },
    {
      "cell_type": "markdown",
      "source": [
        "## Bussiness Understanding"
      ],
      "metadata": {
        "id": "z4VYNYoLpiM-"
      }
    },
    {
      "cell_type": "markdown",
      "source": [
        "Data pinjaman nasabah merupakan kumpulan data yang berisi tentang informasi pinjaman nasabah pada sebuah lembaga keuangan. Informasi yang diberikan sangat membantu lembaga keuangan dalam proses pengambilan keputusan terkait seberapa besar seorang nasabah dapat melakukan peminjaman, jangka waktu peminjaman, suku bungan, dan kemungkinan resiko yang akan terjadi.\n",
        "\n",
        "dalam proses analisis, data pinjaman nasabah dibutuhkan untuk melakukan evaluasi resiko kredit dari calon nasabah, hal tersebut dapat dilakukan dengan melakukan analisis pada pendapatan, pekerjaan, jumlah tanggungan, dan sebagainya. setelah proses analisis selesai, pihak lembaga keuangan dapat mengambil keputusan apakah seorang calon nasabah tersebut layak diberi pinjaman atau tidak.\n",
        "\n",
        "selain itu, data pinjaman nasabah dapat membantu lembaga keuangan dalam mengembangkan strategi bisnis seperti menentukan target pasar, penyesuaian produk, efisiensi kredit, dan lain sebagainya."
      ],
      "metadata": {
        "id": "J597qF_KxrGi"
      }
    },
    {
      "cell_type": "markdown",
      "source": [
        "### Bussiness Objectives\n",
        "\n",
        "*   pengambil keputusan untuk menilai risiko kredit dan kecenderungan nasabah dalam melakukan pembayaran. Hal ini dapat membantu perusahaan keuangan dalam membuat keputusan yang lebih baik dalam memberikan pinjaman atau kredit kepada nasabah.\n",
        "\n",
        "\n",
        "*   Penghematan biaya: Dengan menggunakan dataset pinjaman-nasabah, perusahaan keuangan dapat memperkirakan risiko kredit dengan lebih akurat, sehingga dapat mengurangi jumlah pinjaman bermasalah atau yang tidak dapat dipulihkan. Hal ini dapat membantu perusahaan keuangan menghemat biaya dalam menangani pinjaman bermasalah atau pembayaran yang tidak terbayarkan.\n",
        "*   Peningkatan efisiensi: Dataset pinjaman-nasabah dapat digunakan untuk mengidentifikasi kecenderungan nasabah dalam melakukan pembayaran, sehingga perusahaan keuangan dapat mengembangkan strategi untuk meningkatkan efisiensi dalam mengumpulkan pembayaran. Hal ini dapat membantu perusahaan keuangan meningkatkan efisiensi dan mengurangi biaya dalam proses pengumpulan pembayaran.\n",
        "\n"
      ],
      "metadata": {
        "id": "qjcGftl4EVOY"
      }
    },
    {
      "cell_type": "markdown",
      "source": [
        "### Assess Situations\n",
        "\n",
        "*   Kualitas data dalam dataset ini terbilang masih cukup kompleks dan memiliki beberapa poin yang harus diperbaiki\n",
        "*   Memiliki berbagai tipe data\n",
        "\n",
        "Adapun tools yang digunakan dalam analisis ini :\n",
        "\n",
        "*   KNN\n",
        "*   Naive Bayes\n",
        "*   C4.5\n",
        "\n",
        "\n",
        "\n",
        "\n"
      ],
      "metadata": {
        "id": "xg1J3KGPpfPC"
      }
    },
    {
      "cell_type": "markdown",
      "source": [
        "### Datamining Goals\n",
        "\n",
        "*   Memprediksi calon penerima pinjaman\n",
        "*   Menemukan pola pemberian pinjaman\n",
        "*   Menemukan klasifikasi dalam data\n",
        "\n"
      ],
      "metadata": {
        "id": "m9t6rhX8Fj_k"
      }
    },
    {
      "cell_type": "markdown",
      "source": [
        "### Tujuan Analisis Dataset\n",
        "Tujuan dari menganalisis dataset ini untuk mencari kategori yang bagaimana yang dapat diberikan pinjaman. Dari dataset diatas, dilakukan pengolahan data untuk memprediksi kategori yang dapat melakukan pinjaman, seperti\n",
        " apakah nantinya kategori yang incomenya kecil dengan jumlah tanggungan besar atau lainnya."
      ],
      "metadata": {
        "id": "HH7LUUCo9lI6"
      }
    },
    {
      "cell_type": "markdown",
      "source": [
        "## Data Understanding"
      ],
      "metadata": {
        "id": "IZenDg2P-Yhm"
      }
    },
    {
      "cell_type": "code",
      "execution_count": null,
      "metadata": {
        "id": "qY8w4Z0TxOgW"
      },
      "outputs": [],
      "source": [
        "import pandas as pd\n",
        "df = pd.read_csv('https://raw.githubusercontent.com/zackoflonely/028_Zaki-Fauzan_PO2_DatMin/main/dataset-pinjaman-nasabah.csv')"
      ]
    },
    {
      "cell_type": "markdown",
      "source": [
        "### Describe Data\n",
        "Berikut merupakan isi keseluruhan dataset:"
      ],
      "metadata": {
        "id": "F8pe7Elb-Bxy"
      }
    },
    {
      "cell_type": "code",
      "source": [
        "df"
      ],
      "metadata": {
        "colab": {
          "base_uri": "https://localhost:8080/",
          "height": 505
        },
        "id": "XbrwjJuVyrwF",
        "outputId": "bf0dbae6-6b8b-4d7e-bdb8-f3bf55058947"
      },
      "execution_count": null,
      "outputs": [
        {
          "output_type": "execute_result",
          "data": {
            "text/plain": [
              "    ID_Nasabah JenisKelamin StatusPernikahan  JumTanggungan    Pendidikan  \\\n",
              "0     LP001002         Male               No            0.0      Graduate   \n",
              "1     LP001003         Male              Yes            1.0      Graduate   \n",
              "2     LP001005         Male              Yes            0.0      Graduate   \n",
              "3     LP001006         Male              Yes            0.0  Not Graduate   \n",
              "4     LP001008         Male               No            0.0      Graduate   \n",
              "..         ...          ...              ...            ...           ...   \n",
              "609   LP002978       Female               No            0.0      Graduate   \n",
              "610   LP002979         Male              Yes            3.0      Graduate   \n",
              "611   LP002983         Male              Yes            1.0      Graduate   \n",
              "612   LP002984         Male              Yes            2.0      Graduate   \n",
              "613   LP002990       Female               No            0.0      Graduate   \n",
              "\n",
              "    Wiraswasta  IncomeNasabah  IncomePasangan  JumlahPinjaman  \\\n",
              "0           No           5849               0             NaN   \n",
              "1           No           4583            1508           128.0   \n",
              "2          Yes           3000               0            66.0   \n",
              "3           No           2583            2358           120.0   \n",
              "4           No           6000               0           141.0   \n",
              "..         ...            ...             ...             ...   \n",
              "609         No           2900               0            71.0   \n",
              "610         No           4106               0            40.0   \n",
              "611         No           8072             240           253.0   \n",
              "612         No           7583               0           187.0   \n",
              "613        Yes           4583               0           133.0   \n",
              "\n",
              "     JangkaWaktuPinjaman  Credit_History WilayahTempatTinggal StatusPinjaman  \n",
              "0                  360.0             1.0                Urban              Y  \n",
              "1                  360.0             1.0                Rural              N  \n",
              "2                  360.0             1.0                Urban              Y  \n",
              "3                  360.0             1.0                Urban              Y  \n",
              "4                  360.0             1.0                Urban              Y  \n",
              "..                   ...             ...                  ...            ...  \n",
              "609                360.0             1.0                Rural              Y  \n",
              "610                180.0             1.0                Rural              Y  \n",
              "611                360.0             1.0                Urban              Y  \n",
              "612                360.0             1.0                Urban              Y  \n",
              "613                360.0             0.0            Semiurban              N  \n",
              "\n",
              "[614 rows x 13 columns]"
            ],
            "text/html": [
              "\n",
              "  <div id=\"df-3007f6b7-ac7c-4676-b65b-5d5d207da692\">\n",
              "    <div class=\"colab-df-container\">\n",
              "      <div>\n",
              "<style scoped>\n",
              "    .dataframe tbody tr th:only-of-type {\n",
              "        vertical-align: middle;\n",
              "    }\n",
              "\n",
              "    .dataframe tbody tr th {\n",
              "        vertical-align: top;\n",
              "    }\n",
              "\n",
              "    .dataframe thead th {\n",
              "        text-align: right;\n",
              "    }\n",
              "</style>\n",
              "<table border=\"1\" class=\"dataframe\">\n",
              "  <thead>\n",
              "    <tr style=\"text-align: right;\">\n",
              "      <th></th>\n",
              "      <th>ID_Nasabah</th>\n",
              "      <th>JenisKelamin</th>\n",
              "      <th>StatusPernikahan</th>\n",
              "      <th>JumTanggungan</th>\n",
              "      <th>Pendidikan</th>\n",
              "      <th>Wiraswasta</th>\n",
              "      <th>IncomeNasabah</th>\n",
              "      <th>IncomePasangan</th>\n",
              "      <th>JumlahPinjaman</th>\n",
              "      <th>JangkaWaktuPinjaman</th>\n",
              "      <th>Credit_History</th>\n",
              "      <th>WilayahTempatTinggal</th>\n",
              "      <th>StatusPinjaman</th>\n",
              "    </tr>\n",
              "  </thead>\n",
              "  <tbody>\n",
              "    <tr>\n",
              "      <th>0</th>\n",
              "      <td>LP001002</td>\n",
              "      <td>Male</td>\n",
              "      <td>No</td>\n",
              "      <td>0.0</td>\n",
              "      <td>Graduate</td>\n",
              "      <td>No</td>\n",
              "      <td>5849</td>\n",
              "      <td>0</td>\n",
              "      <td>NaN</td>\n",
              "      <td>360.0</td>\n",
              "      <td>1.0</td>\n",
              "      <td>Urban</td>\n",
              "      <td>Y</td>\n",
              "    </tr>\n",
              "    <tr>\n",
              "      <th>1</th>\n",
              "      <td>LP001003</td>\n",
              "      <td>Male</td>\n",
              "      <td>Yes</td>\n",
              "      <td>1.0</td>\n",
              "      <td>Graduate</td>\n",
              "      <td>No</td>\n",
              "      <td>4583</td>\n",
              "      <td>1508</td>\n",
              "      <td>128.0</td>\n",
              "      <td>360.0</td>\n",
              "      <td>1.0</td>\n",
              "      <td>Rural</td>\n",
              "      <td>N</td>\n",
              "    </tr>\n",
              "    <tr>\n",
              "      <th>2</th>\n",
              "      <td>LP001005</td>\n",
              "      <td>Male</td>\n",
              "      <td>Yes</td>\n",
              "      <td>0.0</td>\n",
              "      <td>Graduate</td>\n",
              "      <td>Yes</td>\n",
              "      <td>3000</td>\n",
              "      <td>0</td>\n",
              "      <td>66.0</td>\n",
              "      <td>360.0</td>\n",
              "      <td>1.0</td>\n",
              "      <td>Urban</td>\n",
              "      <td>Y</td>\n",
              "    </tr>\n",
              "    <tr>\n",
              "      <th>3</th>\n",
              "      <td>LP001006</td>\n",
              "      <td>Male</td>\n",
              "      <td>Yes</td>\n",
              "      <td>0.0</td>\n",
              "      <td>Not Graduate</td>\n",
              "      <td>No</td>\n",
              "      <td>2583</td>\n",
              "      <td>2358</td>\n",
              "      <td>120.0</td>\n",
              "      <td>360.0</td>\n",
              "      <td>1.0</td>\n",
              "      <td>Urban</td>\n",
              "      <td>Y</td>\n",
              "    </tr>\n",
              "    <tr>\n",
              "      <th>4</th>\n",
              "      <td>LP001008</td>\n",
              "      <td>Male</td>\n",
              "      <td>No</td>\n",
              "      <td>0.0</td>\n",
              "      <td>Graduate</td>\n",
              "      <td>No</td>\n",
              "      <td>6000</td>\n",
              "      <td>0</td>\n",
              "      <td>141.0</td>\n",
              "      <td>360.0</td>\n",
              "      <td>1.0</td>\n",
              "      <td>Urban</td>\n",
              "      <td>Y</td>\n",
              "    </tr>\n",
              "    <tr>\n",
              "      <th>...</th>\n",
              "      <td>...</td>\n",
              "      <td>...</td>\n",
              "      <td>...</td>\n",
              "      <td>...</td>\n",
              "      <td>...</td>\n",
              "      <td>...</td>\n",
              "      <td>...</td>\n",
              "      <td>...</td>\n",
              "      <td>...</td>\n",
              "      <td>...</td>\n",
              "      <td>...</td>\n",
              "      <td>...</td>\n",
              "      <td>...</td>\n",
              "    </tr>\n",
              "    <tr>\n",
              "      <th>609</th>\n",
              "      <td>LP002978</td>\n",
              "      <td>Female</td>\n",
              "      <td>No</td>\n",
              "      <td>0.0</td>\n",
              "      <td>Graduate</td>\n",
              "      <td>No</td>\n",
              "      <td>2900</td>\n",
              "      <td>0</td>\n",
              "      <td>71.0</td>\n",
              "      <td>360.0</td>\n",
              "      <td>1.0</td>\n",
              "      <td>Rural</td>\n",
              "      <td>Y</td>\n",
              "    </tr>\n",
              "    <tr>\n",
              "      <th>610</th>\n",
              "      <td>LP002979</td>\n",
              "      <td>Male</td>\n",
              "      <td>Yes</td>\n",
              "      <td>3.0</td>\n",
              "      <td>Graduate</td>\n",
              "      <td>No</td>\n",
              "      <td>4106</td>\n",
              "      <td>0</td>\n",
              "      <td>40.0</td>\n",
              "      <td>180.0</td>\n",
              "      <td>1.0</td>\n",
              "      <td>Rural</td>\n",
              "      <td>Y</td>\n",
              "    </tr>\n",
              "    <tr>\n",
              "      <th>611</th>\n",
              "      <td>LP002983</td>\n",
              "      <td>Male</td>\n",
              "      <td>Yes</td>\n",
              "      <td>1.0</td>\n",
              "      <td>Graduate</td>\n",
              "      <td>No</td>\n",
              "      <td>8072</td>\n",
              "      <td>240</td>\n",
              "      <td>253.0</td>\n",
              "      <td>360.0</td>\n",
              "      <td>1.0</td>\n",
              "      <td>Urban</td>\n",
              "      <td>Y</td>\n",
              "    </tr>\n",
              "    <tr>\n",
              "      <th>612</th>\n",
              "      <td>LP002984</td>\n",
              "      <td>Male</td>\n",
              "      <td>Yes</td>\n",
              "      <td>2.0</td>\n",
              "      <td>Graduate</td>\n",
              "      <td>No</td>\n",
              "      <td>7583</td>\n",
              "      <td>0</td>\n",
              "      <td>187.0</td>\n",
              "      <td>360.0</td>\n",
              "      <td>1.0</td>\n",
              "      <td>Urban</td>\n",
              "      <td>Y</td>\n",
              "    </tr>\n",
              "    <tr>\n",
              "      <th>613</th>\n",
              "      <td>LP002990</td>\n",
              "      <td>Female</td>\n",
              "      <td>No</td>\n",
              "      <td>0.0</td>\n",
              "      <td>Graduate</td>\n",
              "      <td>Yes</td>\n",
              "      <td>4583</td>\n",
              "      <td>0</td>\n",
              "      <td>133.0</td>\n",
              "      <td>360.0</td>\n",
              "      <td>0.0</td>\n",
              "      <td>Semiurban</td>\n",
              "      <td>N</td>\n",
              "    </tr>\n",
              "  </tbody>\n",
              "</table>\n",
              "<p>614 rows × 13 columns</p>\n",
              "</div>\n",
              "      <button class=\"colab-df-convert\" onclick=\"convertToInteractive('df-3007f6b7-ac7c-4676-b65b-5d5d207da692')\"\n",
              "              title=\"Convert this dataframe to an interactive table.\"\n",
              "              style=\"display:none;\">\n",
              "        \n",
              "  <svg xmlns=\"http://www.w3.org/2000/svg\" height=\"24px\"viewBox=\"0 0 24 24\"\n",
              "       width=\"24px\">\n",
              "    <path d=\"M0 0h24v24H0V0z\" fill=\"none\"/>\n",
              "    <path d=\"M18.56 5.44l.94 2.06.94-2.06 2.06-.94-2.06-.94-.94-2.06-.94 2.06-2.06.94zm-11 1L8.5 8.5l.94-2.06 2.06-.94-2.06-.94L8.5 2.5l-.94 2.06-2.06.94zm10 10l.94 2.06.94-2.06 2.06-.94-2.06-.94-.94-2.06-.94 2.06-2.06.94z\"/><path d=\"M17.41 7.96l-1.37-1.37c-.4-.4-.92-.59-1.43-.59-.52 0-1.04.2-1.43.59L10.3 9.45l-7.72 7.72c-.78.78-.78 2.05 0 2.83L4 21.41c.39.39.9.59 1.41.59.51 0 1.02-.2 1.41-.59l7.78-7.78 2.81-2.81c.8-.78.8-2.07 0-2.86zM5.41 20L4 18.59l7.72-7.72 1.47 1.35L5.41 20z\"/>\n",
              "  </svg>\n",
              "      </button>\n",
              "      \n",
              "  <style>\n",
              "    .colab-df-container {\n",
              "      display:flex;\n",
              "      flex-wrap:wrap;\n",
              "      gap: 12px;\n",
              "    }\n",
              "\n",
              "    .colab-df-convert {\n",
              "      background-color: #E8F0FE;\n",
              "      border: none;\n",
              "      border-radius: 50%;\n",
              "      cursor: pointer;\n",
              "      display: none;\n",
              "      fill: #1967D2;\n",
              "      height: 32px;\n",
              "      padding: 0 0 0 0;\n",
              "      width: 32px;\n",
              "    }\n",
              "\n",
              "    .colab-df-convert:hover {\n",
              "      background-color: #E2EBFA;\n",
              "      box-shadow: 0px 1px 2px rgba(60, 64, 67, 0.3), 0px 1px 3px 1px rgba(60, 64, 67, 0.15);\n",
              "      fill: #174EA6;\n",
              "    }\n",
              "\n",
              "    [theme=dark] .colab-df-convert {\n",
              "      background-color: #3B4455;\n",
              "      fill: #D2E3FC;\n",
              "    }\n",
              "\n",
              "    [theme=dark] .colab-df-convert:hover {\n",
              "      background-color: #434B5C;\n",
              "      box-shadow: 0px 1px 3px 1px rgba(0, 0, 0, 0.15);\n",
              "      filter: drop-shadow(0px 1px 2px rgba(0, 0, 0, 0.3));\n",
              "      fill: #FFFFFF;\n",
              "    }\n",
              "  </style>\n",
              "\n",
              "      <script>\n",
              "        const buttonEl =\n",
              "          document.querySelector('#df-3007f6b7-ac7c-4676-b65b-5d5d207da692 button.colab-df-convert');\n",
              "        buttonEl.style.display =\n",
              "          google.colab.kernel.accessAllowed ? 'block' : 'none';\n",
              "\n",
              "        async function convertToInteractive(key) {\n",
              "          const element = document.querySelector('#df-3007f6b7-ac7c-4676-b65b-5d5d207da692');\n",
              "          const dataTable =\n",
              "            await google.colab.kernel.invokeFunction('convertToInteractive',\n",
              "                                                     [key], {});\n",
              "          if (!dataTable) return;\n",
              "\n",
              "          const docLinkHtml = 'Like what you see? Visit the ' +\n",
              "            '<a target=\"_blank\" href=https://colab.research.google.com/notebooks/data_table.ipynb>data table notebook</a>'\n",
              "            + ' to learn more about interactive tables.';\n",
              "          element.innerHTML = '';\n",
              "          dataTable['output_type'] = 'display_data';\n",
              "          await google.colab.output.renderOutput(dataTable, element);\n",
              "          const docLink = document.createElement('div');\n",
              "          docLink.innerHTML = docLinkHtml;\n",
              "          element.appendChild(docLink);\n",
              "        }\n",
              "      </script>\n",
              "    </div>\n",
              "  </div>\n",
              "  "
            ]
          },
          "metadata": {},
          "execution_count": 8
        }
      ]
    },
    {
      "cell_type": "code",
      "source": [
        "print(\"Berikut daftar kolom yang ada pada dataframe :\")\n",
        "for col in df.columns:\n",
        "  print(col)"
      ],
      "metadata": {
        "id": "kV8lhpSX_MmT",
        "outputId": "fc972a6f-6b7e-4370-9db1-5ac188b8c2c6",
        "colab": {
          "base_uri": "https://localhost:8080/"
        }
      },
      "execution_count": null,
      "outputs": [
        {
          "output_type": "stream",
          "name": "stdout",
          "text": [
            "Berikut daftar kolom yang ada pada dataframe :\n",
            "ID_Nasabah\n",
            "JenisKelamin\n",
            "StatusPernikahan\n",
            "JumTanggungan\n",
            "Pendidikan\n",
            "Wiraswasta\n",
            "IncomeNasabah\n",
            "IncomePasangan\n",
            "JumlahPinjaman\n",
            "JangkaWaktuPinjaman\n",
            "Credit_History\n",
            "WilayahTempatTinggal\n",
            "StatusPinjaman\n"
          ]
        }
      ]
    },
    {
      "cell_type": "markdown",
      "source": [
        "### Penjelasan Kolom\n",
        "ID Nasabah = Merupakan ID pengenal dan pembeda dari setiap nasabah yang pernah melakukan pinjaman. \n",
        "\n",
        "Jenis Kelamin = Merupakan kolom yang membedakan jenis kelamin setiap nasabah.\n",
        "\n",
        "Status Pernikahan = Merupakan Kolom yang berisi status apakah menikah atau tidak.\n",
        "\n",
        "JumTanggungan = Merupakan kolom yang berisi jumlah tanggungan yang dimiliki setiap nasabah.\n",
        "\n",
        "Pendidikan = Merupakan kolom yang berisi tentang status pendidikan mereka apakah lulusan kuliah atau tidak.\n",
        "\n",
        "Wiraswasta = Merupakan kolom yang berisi tentang status nasabah apakah seorang wiraswasta atau tidak.\n",
        "\n",
        "IncomeNasabah = Merupakan kolom yang berisi pemasukan atau income setiap nasabah.\n",
        "\n",
        "JumlahPinjaman = Kolom yang menampilkan besar pinjaman yang dimiliki.\n",
        "\n",
        "JangkaWaktuPinjaman = Merupakan jangka waktu pinjaman tersebut diberikan.\n",
        "-\n",
        "Credit_History = Merupakan kolom yang menampilkan riwayat kredit yang dilakukan oleh nasabah.\n",
        "\n",
        "WilayahTempatTinggal = Merupakan kolom dari data alamat yang ditampung dari nasabah\n",
        "\n",
        "StatusPinjaman = Merupakan kolom yang menampilkan apakah nasabah masih dalam pinjaman atau tidak."
      ],
      "metadata": {
        "id": "cE36NyyY92qb"
      }
    },
    {
      "cell_type": "code",
      "source": [
        "import statistics\n",
        "print(\"\\nKolom            : JumTanggungan\")\n",
        "print(\"Mean             : \",df[\"JumTanggungan\"].mean())\n",
        "print(\"Min              : \", df[\"JumTanggungan\"].min())\n",
        "print(\"Max              : \", df[\"JumTanggungan\"].max())\n",
        "# print(\"Standar Deviasi  : \",statistics.stdev(df[\"JumTanggungan\"]))\n",
        "\n",
        "print(\"\\nKolom            : IncomeNasabah\")\n",
        "print(\"Mean             : \",df[\"IncomeNasabah\"].mean())\n",
        "print(\"Min              : \", df[\"IncomeNasabah\"].min())\n",
        "print(\"Max              : \", df[\"IncomeNasabah\"].max())\n",
        "print(\"Standar Deviasi  : \",statistics.stdev(df[\"IncomeNasabah\"]))\n",
        "\n",
        "print(\"\\nKolom            : IncomePasangan\")\n",
        "print(\"Mean             : \",df[\"IncomePasangan\"].mean())\n",
        "print(\"Min              : \", df[\"IncomePasangan\"].min())\n",
        "print(\"Max              : \", df[\"IncomePasangan\"].max())\n",
        "print(\"Standar Deviasi  : \",statistics.stdev(df[\"IncomePasangan\"]))\n",
        "\n",
        "print(\"\\nKolom            : JumlahPinjaman\")\n",
        "print(\"Mean             : \",df[\"JumlahPinjaman\"].mean())\n",
        "print(\"Min              : \", df[\"JumlahPinjaman\"].min())\n",
        "print(\"Max              : \", df[\"JumlahPinjaman\"].max())\n",
        "# print(\"Standar Deviasi  : \",statistics.stdev(df[\"JumlahPinjaman\"]))\n",
        "\n",
        "print(\"\\nKolom            : JangkaWaktuPinjaman\")\n",
        "print(\"Mean             : \",df[\"JangkaWaktuPinjaman\"].mean())\n",
        "print(\"Min              : \", df[\"JangkaWaktuPinjaman\"].min())\n",
        "print(\"Max              : \", df[\"JangkaWaktuPinjaman\"].max())\n",
        "# print(\"Standar Deviasi  : \",statistics.stdev(df[\"JangkaWaktuPinjaman\"]))"
      ],
      "metadata": {
        "id": "ietOiwbp99H2",
        "outputId": "11419414-a317-4f75-9e0d-fed45ff5d2fd",
        "colab": {
          "base_uri": "https://localhost:8080/"
        }
      },
      "execution_count": null,
      "outputs": [
        {
          "output_type": "stream",
          "name": "stdout",
          "text": [
            "\n",
            "Kolom            : JumTanggungan\n",
            "Mean             :  0.7629382303839732\n",
            "Min              :  0.0\n",
            "Max              :  3.0\n",
            "\n",
            "Kolom            : IncomeNasabah\n",
            "Mean             :  5403.459283387622\n",
            "Min              :  150\n",
            "Max              :  81000\n",
            "Standar Deviasi  :  6109.041673387178\n",
            "\n",
            "Kolom            : IncomePasangan\n",
            "Mean             :  1621.2459283387623\n",
            "Min              :  0\n",
            "Max              :  41667\n",
            "Standar Deviasi  :  2926.2484057650972\n",
            "\n",
            "Kolom            : JumlahPinjaman\n",
            "Mean             :  146.41216216216216\n",
            "Min              :  9.0\n",
            "Max              :  700.0\n",
            "\n",
            "Kolom            : JangkaWaktuPinjaman\n",
            "Mean             :  342.0\n",
            "Min              :  12.0\n",
            "Max              :  480.0\n"
          ]
        }
      ]
    },
    {
      "cell_type": "markdown",
      "source": [
        "### Explore Data"
      ],
      "metadata": {
        "id": "3OUZ96rt_X1X"
      }
    },
    {
      "cell_type": "code",
      "source": [
        "import seaborn as sns\n",
        "sns.countplot(data=df,x=\"Pendidikan\",hue=\"StatusPinjaman\")"
      ],
      "metadata": {
        "id": "PgxaacYD_gEQ",
        "outputId": "c64adc61-93e9-4760-b0af-05b019ee1227",
        "colab": {
          "base_uri": "https://localhost:8080/",
          "height": 467
        }
      },
      "execution_count": null,
      "outputs": [
        {
          "output_type": "execute_result",
          "data": {
            "text/plain": [
              "<Axes: xlabel='Pendidikan', ylabel='count'>"
            ]
          },
          "metadata": {},
          "execution_count": 11
        },
        {
          "output_type": "display_data",
          "data": {
            "text/plain": [
              "<Figure size 640x480 with 1 Axes>"
            ],
            "image/png": "[encoded data removed]"
          },
          "metadata": {}
        }
      ]
    },
    {
      "cell_type": "markdown",
      "source": [
        "Dari visualisasi diatas menunjukkan bahwa sebagian besar nasabah peminjam adalah mereka yang memiliki status graduate dengan perbandingan yang cukup jauh dan dapat dilihat pada visualisasi diatas"
      ],
      "metadata": {
        "id": "3P4GWSaX_lwL"
      }
    },
    {
      "cell_type": "code",
      "source": [
        "sns.histplot(x='IncomeNasabah', data=df)"
      ],
      "metadata": {
        "id": "vqI6nNLV_n1O",
        "outputId": "7ba15e2c-b9b8-46f3-b8f0-06750d292e65",
        "colab": {
          "base_uri": "https://localhost:8080/",
          "height": 471
        }
      },
      "execution_count": null,
      "outputs": [
        {
          "output_type": "execute_result",
          "data": {
            "text/plain": [
              "<Axes: xlabel='IncomeNasabah', ylabel='Count'>"
            ]
          },
          "metadata": {},
          "execution_count": 12
        },
        {
          "output_type": "display_data",
          "data": {
            "text/plain": [
              "<Figure size 640x480 with 1 Axes>"
            ],
            "image/png": "[encoded data removed]"
          },
          "metadata": {}
        }
      ]
    },
    {
      "cell_type": "markdown",
      "source": [
        "Visualisasi data diatas menunjukkan data income nasabah yang menjadi peminjam pada dataset ini memiliki berbagai macam income, namun sebagian besar income nasabah berada pada range 0-10000."
      ],
      "metadata": {
        "id": "Xgfw6mqi_rRR"
      }
    },
    {
      "cell_type": "code",
      "source": [
        "sns.boxplot(x='JumlahPinjaman', y='JenisKelamin', data=df)"
      ],
      "metadata": {
        "id": "37nMQ3Qp_swV",
        "outputId": "dcec7ca5-fe14-41bc-d771-f04fc67bbed5",
        "colab": {
          "base_uri": "https://localhost:8080/",
          "height": 467
        }
      },
      "execution_count": null,
      "outputs": [
        {
          "output_type": "execute_result",
          "data": {
            "text/plain": [
              "<Axes: xlabel='JumlahPinjaman', ylabel='JenisKelamin'>"
            ]
          },
          "metadata": {},
          "execution_count": 13
        },
        {
          "output_type": "display_data",
          "data": {
            "text/plain": [
              "<Figure size 640x480 with 1 Axes>"
            ],
            "image/png": "[encoded data removed]"
          },
          "metadata": {}
        }
      ]
    },
    {
      "cell_type": "markdown",
      "source": [
        "Pada visualisasi diatas menunjukkan nasabah dengan jenis kelamin laki-laki jauh lebih banyak dalam melakukan peminjaman dibanding perempuan. Selain itu jumlah peminjaman yang dipinjam juga lebih besar dibanding perempuan."
      ],
      "metadata": {
        "id": "oICTNZHN_wN6"
      }
    },
    {
      "cell_type": "code",
      "source": [
        "import pandas as pd\n",
        "import matplotlib.pyplot as plt\n",
        "\n",
        "# membaca dataset dalam format CSV\n",
        "data = df\n",
        "\n",
        "# membuat histogram dari kolom 'JumTanggungan'\n",
        "plt.subplot(2, 2, 1)\n",
        "plt.hist(data['JumTanggungan'])\n",
        "plt.title('Histogram Jumlah Tanggungan')\n",
        "\n",
        "# membuat scatter plot dari kolom 'IncomeNasabah' dan 'JumlahPinjaman'\n",
        "plt.subplot(2, 2, 2)\n",
        "plt.scatter(data['IncomeNasabah'], data['JumlahPinjaman'])\n",
        "plt.title('Scatter Plot Income vs Jumlah Pinjaman')\n",
        "\n",
        "# membuat bar plot dari kolom 'StatusPernikahan'\n",
        "plt.subplot(2, 2, 3)\n",
        "data['StatusPernikahan'].value_counts().plot(kind='bar')\n",
        "plt.title('Bar Plot Status Pernikahan')\n",
        "\n",
        "# membuat pie chart dari kolom 'JenisKelamin'\n",
        "plt.subplot(2, 2, 4)\n",
        "data['JenisKelamin'].value_counts().plot(kind='pie', autopct='%1.1f%%')\n",
        "plt.title('Pie Chart Jenis Kelamin')\n",
        "\n",
        "# menampilkan plot\n",
        "plt.tight_layout()\n",
        "plt.show()"
      ],
      "metadata": {
        "colab": {
          "base_uri": "https://localhost:8080/",
          "height": 486
        },
        "id": "0vqezebYhitY",
        "outputId": "c95e94f6-30a9-4b4a-a120-87ec2485427b"
      },
      "execution_count": null,
      "outputs": [
        {
          "output_type": "display_data",
          "data": {
            "text/plain": [
              "<Figure size 640x480 with 4 Axes>"
            ],
            "image/png": "[encoded data removed]"
          },
          "metadata": {}
        }
      ]
    },
    {
      "cell_type": "markdown",
      "source": [
        "Berdasarkan visualisasi diatas pada dataset ini yang melakukan peminjaman dapat dibagi per kolom. Untuk jumlah tanggungan dapat terlihat bahwa mayoritas hanya sendiri dan tidak memiliki tanggungan. Lalu untuk perbandingan antara income dan jumlah peminjaman sebagian besar berada pada titik yang sama. Sedangkan untuk pernikahan sebagian besar yes dan kelamin didominasi oleh laki-laki."
      ],
      "metadata": {
        "id": "-uyyREVcoKEr"
      }
    },
    {
      "cell_type": "markdown",
      "source": [
        "## Verify Data Quality"
      ],
      "metadata": {
        "id": "vR43iyKgARnV"
      }
    },
    {
      "cell_type": "markdown",
      "source": [
        "## Validity Data\n"
      ],
      "metadata": {
        "id": "278BxvuqA76J"
      }
    },
    {
      "cell_type": "code",
      "source": [
        "df.info()"
      ],
      "metadata": {
        "colab": {
          "base_uri": "https://localhost:8080/"
        },
        "id": "PqAu92YXisej",
        "outputId": "16d83ded-85fa-4e29-bb19-eea1a100a16a"
      },
      "execution_count": null,
      "outputs": [
        {
          "output_type": "stream",
          "name": "stdout",
          "text": [
            "<class 'pandas.core.frame.DataFrame'>\n",
            "RangeIndex: 614 entries, 0 to 613\n",
            "Data columns (total 13 columns):\n",
            " #   Column                Non-Null Count  Dtype  \n",
            "---  ------                --------------  -----  \n",
            " 0   ID_Nasabah            614 non-null    object \n",
            " 1   JenisKelamin          601 non-null    object \n",
            " 2   StatusPernikahan      611 non-null    object \n",
            " 3   JumTanggungan         599 non-null    float64\n",
            " 4   Pendidikan            614 non-null    object \n",
            " 5   Wiraswasta            582 non-null    object \n",
            " 6   IncomeNasabah         614 non-null    int64  \n",
            " 7   IncomePasangan        614 non-null    int64  \n",
            " 8   JumlahPinjaman        592 non-null    float64\n",
            " 9   JangkaWaktuPinjaman   600 non-null    float64\n",
            " 10  Credit_History        564 non-null    float64\n",
            " 11  WilayahTempatTinggal  614 non-null    object \n",
            " 12  StatusPinjaman        614 non-null    object \n",
            "dtypes: float64(4), int64(2), object(7)\n",
            "memory usage: 62.5+ KB\n"
          ]
        }
      ]
    },
    {
      "cell_type": "markdown",
      "source": [
        "##Duplicate Data\n"
      ],
      "metadata": {
        "id": "r_WQMOoAAZRc"
      }
    },
    {
      "cell_type": "code",
      "source": [
        "is_duplicated = df.duplicated().any()\n",
        "\n",
        "print(\"Status Duplikasi :\",is_duplicated)"
      ],
      "metadata": {
        "id": "wjgSiliXAQ-c",
        "outputId": "5f44b2c8-052b-4395-c34f-9a9ed6f17ea5",
        "colab": {
          "base_uri": "https://localhost:8080/"
        }
      },
      "execution_count": null,
      "outputs": [
        {
          "output_type": "stream",
          "name": "stdout",
          "text": [
            "Status Duplikasi : False\n"
          ]
        }
      ]
    },
    {
      "cell_type": "markdown",
      "source": [
        "Menyatakan hasil uji diplikasi bernilai false. Artinya data tersebut layak untuk digunakan"
      ],
      "metadata": {
        "id": "taEN_LYZBM3I"
      }
    },
    {
      "cell_type": "markdown",
      "source": [
        "## Data Preparation"
      ],
      "metadata": {
        "id": "ZgTTy2__Biu9"
      }
    },
    {
      "cell_type": "markdown",
      "source": [
        "### Select Data"
      ],
      "metadata": {
        "id": "4Sp3VL0LBpsI"
      }
    },
    {
      "cell_type": "code",
      "source": [
        "df"
      ],
      "metadata": {
        "id": "AqsugZYTBwYe",
        "outputId": "750967d4-32cc-44b7-c3ea-d4eb33c0e13c",
        "colab": {
          "base_uri": "https://localhost:8080/",
          "height": 505
        }
      },
      "execution_count": null,
      "outputs": [
        {
          "output_type": "execute_result",
          "data": {
            "text/plain": [
              "    ID_Nasabah JenisKelamin StatusPernikahan  JumTanggungan    Pendidikan  \\\n",
              "0     LP001002         Male               No            0.0      Graduate   \n",
              "1     LP001003         Male              Yes            1.0      Graduate   \n",
              "2     LP001005         Male              Yes            0.0      Graduate   \n",
              "3     LP001006         Male              Yes            0.0  Not Graduate   \n",
              "4     LP001008         Male               No            0.0      Graduate   \n",
              "..         ...          ...              ...            ...           ...   \n",
              "609   LP002978       Female               No            0.0      Graduate   \n",
              "610   LP002979         Male              Yes            3.0      Graduate   \n",
              "611   LP002983         Male              Yes            1.0      Graduate   \n",
              "612   LP002984         Male              Yes            2.0      Graduate   \n",
              "613   LP002990       Female               No            0.0      Graduate   \n",
              "\n",
              "    Wiraswasta  IncomeNasabah  IncomePasangan  JumlahPinjaman  \\\n",
              "0           No           5849               0             NaN   \n",
              "1           No           4583            1508           128.0   \n",
              "2          Yes           3000               0            66.0   \n",
              "3           No           2583            2358           120.0   \n",
              "4           No           6000               0           141.0   \n",
              "..         ...            ...             ...             ...   \n",
              "609         No           2900               0            71.0   \n",
              "610         No           4106               0            40.0   \n",
              "611         No           8072             240           253.0   \n",
              "612         No           7583               0           187.0   \n",
              "613        Yes           4583               0           133.0   \n",
              "\n",
              "     JangkaWaktuPinjaman  Credit_History WilayahTempatTinggal StatusPinjaman  \n",
              "0                  360.0             1.0                Urban              Y  \n",
              "1                  360.0             1.0                Rural              N  \n",
              "2                  360.0             1.0                Urban              Y  \n",
              "3                  360.0             1.0                Urban              Y  \n",
              "4                  360.0             1.0                Urban              Y  \n",
              "..                   ...             ...                  ...            ...  \n",
              "609                360.0             1.0                Rural              Y  \n",
              "610                180.0             1.0                Rural              Y  \n",
              "611                360.0             1.0                Urban              Y  \n",
              "612                360.0             1.0                Urban              Y  \n",
              "613                360.0             0.0            Semiurban              N  \n",
              "\n",
              "[614 rows x 13 columns]"
            ],
            "text/html": [
              "\n",
              "  <div id=\"df-55863304-1034-4836-80d4-6b2fbda6f68a\">\n",
              "    <div class=\"colab-df-container\">\n",
              "      <div>\n",
              "<style scoped>\n",
              "    .dataframe tbody tr th:only-of-type {\n",
              "        vertical-align: middle;\n",
              "    }\n",
              "\n",
              "    .dataframe tbody tr th {\n",
              "        vertical-align: top;\n",
              "    }\n",
              "\n",
              "    .dataframe thead th {\n",
              "        text-align: right;\n",
              "    }\n",
              "</style>\n",
              "<table border=\"1\" class=\"dataframe\">\n",
              "  <thead>\n",
              "    <tr style=\"text-align: right;\">\n",
              "      <th></th>\n",
              "      <th>ID_Nasabah</th>\n",
              "      <th>JenisKelamin</th>\n",
              "      <th>StatusPernikahan</th>\n",
              "      <th>JumTanggungan</th>\n",
              "      <th>Pendidikan</th>\n",
              "      <th>Wiraswasta</th>\n",
              "      <th>IncomeNasabah</th>\n",
              "      <th>IncomePasangan</th>\n",
              "      <th>JumlahPinjaman</th>\n",
              "      <th>JangkaWaktuPinjaman</th>\n",
              "      <th>Credit_History</th>\n",
              "      <th>WilayahTempatTinggal</th>\n",
              "      <th>StatusPinjaman</th>\n",
              "    </tr>\n",
              "  </thead>\n",
              "  <tbody>\n",
              "    <tr>\n",
              "      <th>0</th>\n",
              "      <td>LP001002</td>\n",
              "      <td>Male</td>\n",
              "      <td>No</td>\n",
              "      <td>0.0</td>\n",
              "      <td>Graduate</td>\n",
              "      <td>No</td>\n",
              "      <td>5849</td>\n",
              "      <td>0</td>\n",
              "      <td>NaN</td>\n",
              "      <td>360.0</td>\n",
              "      <td>1.0</td>\n",
              "      <td>Urban</td>\n",
              "      <td>Y</td>\n",
              "    </tr>\n",
              "    <tr>\n",
              "      <th>1</th>\n",
              "      <td>LP001003</td>\n",
              "      <td>Male</td>\n",
              "      <td>Yes</td>\n",
              "      <td>1.0</td>\n",
              "      <td>Graduate</td>\n",
              "      <td>No</td>\n",
              "      <td>4583</td>\n",
              "      <td>1508</td>\n",
              "      <td>128.0</td>\n",
              "      <td>360.0</td>\n",
              "      <td>1.0</td>\n",
              "      <td>Rural</td>\n",
              "      <td>N</td>\n",
              "    </tr>\n",
              "    <tr>\n",
              "      <th>2</th>\n",
              "      <td>LP001005</td>\n",
              "      <td>Male</td>\n",
              "      <td>Yes</td>\n",
              "      <td>0.0</td>\n",
              "      <td>Graduate</td>\n",
              "      <td>Yes</td>\n",
              "      <td>3000</td>\n",
              "      <td>0</td>\n",
              "      <td>66.0</td>\n",
              "      <td>360.0</td>\n",
              "      <td>1.0</td>\n",
              "      <td>Urban</td>\n",
              "      <td>Y</td>\n",
              "    </tr>\n",
              "    <tr>\n",
              "      <th>3</th>\n",
              "      <td>LP001006</td>\n",
              "      <td>Male</td>\n",
              "      <td>Yes</td>\n",
              "      <td>0.0</td>\n",
              "      <td>Not Graduate</td>\n",
              "      <td>No</td>\n",
              "      <td>2583</td>\n",
              "      <td>2358</td>\n",
              "      <td>120.0</td>\n",
              "      <td>360.0</td>\n",
              "      <td>1.0</td>\n",
              "      <td>Urban</td>\n",
              "      <td>Y</td>\n",
              "    </tr>\n",
              "    <tr>\n",
              "      <th>4</th>\n",
              "      <td>LP001008</td>\n",
              "      <td>Male</td>\n",
              "      <td>No</td>\n",
              "      <td>0.0</td>\n",
              "      <td>Graduate</td>\n",
              "      <td>No</td>\n",
              "      <td>6000</td>\n",
              "      <td>0</td>\n",
              "      <td>141.0</td>\n",
              "      <td>360.0</td>\n",
              "      <td>1.0</td>\n",
              "      <td>Urban</td>\n",
              "      <td>Y</td>\n",
              "    </tr>\n",
              "    <tr>\n",
              "      <th>...</th>\n",
              "      <td>...</td>\n",
              "      <td>...</td>\n",
              "      <td>...</td>\n",
              "      <td>...</td>\n",
              "      <td>...</td>\n",
              "      <td>...</td>\n",
              "      <td>...</td>\n",
              "      <td>...</td>\n",
              "      <td>...</td>\n",
              "      <td>...</td>\n",
              "      <td>...</td>\n",
              "      <td>...</td>\n",
              "      <td>...</td>\n",
              "    </tr>\n",
              "    <tr>\n",
              "      <th>609</th>\n",
              "      <td>LP002978</td>\n",
              "      <td>Female</td>\n",
              "      <td>No</td>\n",
              "      <td>0.0</td>\n",
              "      <td>Graduate</td>\n",
              "      <td>No</td>\n",
              "      <td>2900</td>\n",
              "      <td>0</td>\n",
              "      <td>71.0</td>\n",
              "      <td>360.0</td>\n",
              "      <td>1.0</td>\n",
              "      <td>Rural</td>\n",
              "      <td>Y</td>\n",
              "    </tr>\n",
              "    <tr>\n",
              "      <th>610</th>\n",
              "      <td>LP002979</td>\n",
              "      <td>Male</td>\n",
              "      <td>Yes</td>\n",
              "      <td>3.0</td>\n",
              "      <td>Graduate</td>\n",
              "      <td>No</td>\n",
              "      <td>4106</td>\n",
              "      <td>0</td>\n",
              "      <td>40.0</td>\n",
              "      <td>180.0</td>\n",
              "      <td>1.0</td>\n",
              "      <td>Rural</td>\n",
              "      <td>Y</td>\n",
              "    </tr>\n",
              "    <tr>\n",
              "      <th>611</th>\n",
              "      <td>LP002983</td>\n",
              "      <td>Male</td>\n",
              "      <td>Yes</td>\n",
              "      <td>1.0</td>\n",
              "      <td>Graduate</td>\n",
              "      <td>No</td>\n",
              "      <td>8072</td>\n",
              "      <td>240</td>\n",
              "      <td>253.0</td>\n",
              "      <td>360.0</td>\n",
              "      <td>1.0</td>\n",
              "      <td>Urban</td>\n",
              "      <td>Y</td>\n",
              "    </tr>\n",
              "    <tr>\n",
              "      <th>612</th>\n",
              "      <td>LP002984</td>\n",
              "      <td>Male</td>\n",
              "      <td>Yes</td>\n",
              "      <td>2.0</td>\n",
              "      <td>Graduate</td>\n",
              "      <td>No</td>\n",
              "      <td>7583</td>\n",
              "      <td>0</td>\n",
              "      <td>187.0</td>\n",
              "      <td>360.0</td>\n",
              "      <td>1.0</td>\n",
              "      <td>Urban</td>\n",
              "      <td>Y</td>\n",
              "    </tr>\n",
              "    <tr>\n",
              "      <th>613</th>\n",
              "      <td>LP002990</td>\n",
              "      <td>Female</td>\n",
              "      <td>No</td>\n",
              "      <td>0.0</td>\n",
              "      <td>Graduate</td>\n",
              "      <td>Yes</td>\n",
              "      <td>4583</td>\n",
              "      <td>0</td>\n",
              "      <td>133.0</td>\n",
              "      <td>360.0</td>\n",
              "      <td>0.0</td>\n",
              "      <td>Semiurban</td>\n",
              "      <td>N</td>\n",
              "    </tr>\n",
              "  </tbody>\n",
              "</table>\n",
              "<p>614 rows × 13 columns</p>\n",
              "</div>\n",
              "      <button class=\"colab-df-convert\" onclick=\"convertToInteractive('df-55863304-1034-4836-80d4-6b2fbda6f68a')\"\n",
              "              title=\"Convert this dataframe to an interactive table.\"\n",
              "              style=\"display:none;\">\n",
              "        \n",
              "  <svg xmlns=\"http://www.w3.org/2000/svg\" height=\"24px\"viewBox=\"0 0 24 24\"\n",
              "       width=\"24px\">\n",
              "    <path d=\"M0 0h24v24H0V0z\" fill=\"none\"/>\n",
              "    <path d=\"M18.56 5.44l.94 2.06.94-2.06 2.06-.94-2.06-.94-.94-2.06-.94 2.06-2.06.94zm-11 1L8.5 8.5l.94-2.06 2.06-.94-2.06-.94L8.5 2.5l-.94 2.06-2.06.94zm10 10l.94 2.06.94-2.06 2.06-.94-2.06-.94-.94-2.06-.94 2.06-2.06.94z\"/><path d=\"M17.41 7.96l-1.37-1.37c-.4-.4-.92-.59-1.43-.59-.52 0-1.04.2-1.43.59L10.3 9.45l-7.72 7.72c-.78.78-.78 2.05 0 2.83L4 21.41c.39.39.9.59 1.41.59.51 0 1.02-.2 1.41-.59l7.78-7.78 2.81-2.81c.8-.78.8-2.07 0-2.86zM5.41 20L4 18.59l7.72-7.72 1.47 1.35L5.41 20z\"/>\n",
              "  </svg>\n",
              "      </button>\n",
              "      \n",
              "  <style>\n",
              "    .colab-df-container {\n",
              "      display:flex;\n",
              "      flex-wrap:wrap;\n",
              "      gap: 12px;\n",
              "    }\n",
              "\n",
              "    .colab-df-convert {\n",
              "      background-color: #E8F0FE;\n",
              "      border: none;\n",
              "      border-radius: 50%;\n",
              "      cursor: pointer;\n",
              "      display: none;\n",
              "      fill: #1967D2;\n",
              "      height: 32px;\n",
              "      padding: 0 0 0 0;\n",
              "      width: 32px;\n",
              "    }\n",
              "\n",
              "    .colab-df-convert:hover {\n",
              "      background-color: #E2EBFA;\n",
              "      box-shadow: 0px 1px 2px rgba(60, 64, 67, 0.3), 0px 1px 3px 1px rgba(60, 64, 67, 0.15);\n",
              "      fill: #174EA6;\n",
              "    }\n",
              "\n",
              "    [theme=dark] .colab-df-convert {\n",
              "      background-color: #3B4455;\n",
              "      fill: #D2E3FC;\n",
              "    }\n",
              "\n",
              "    [theme=dark] .colab-df-convert:hover {\n",
              "      background-color: #434B5C;\n",
              "      box-shadow: 0px 1px 3px 1px rgba(0, 0, 0, 0.15);\n",
              "      filter: drop-shadow(0px 1px 2px rgba(0, 0, 0, 0.3));\n",
              "      fill: #FFFFFF;\n",
              "    }\n",
              "  </style>\n",
              "\n",
              "      <script>\n",
              "        const buttonEl =\n",
              "          document.querySelector('#df-55863304-1034-4836-80d4-6b2fbda6f68a button.colab-df-convert');\n",
              "        buttonEl.style.display =\n",
              "          google.colab.kernel.accessAllowed ? 'block' : 'none';\n",
              "\n",
              "        async function convertToInteractive(key) {\n",
              "          const element = document.querySelector('#df-55863304-1034-4836-80d4-6b2fbda6f68a');\n",
              "          const dataTable =\n",
              "            await google.colab.kernel.invokeFunction('convertToInteractive',\n",
              "                                                     [key], {});\n",
              "          if (!dataTable) return;\n",
              "\n",
              "          const docLinkHtml = 'Like what you see? Visit the ' +\n",
              "            '<a target=\"_blank\" href=https://colab.research.google.com/notebooks/data_table.ipynb>data table notebook</a>'\n",
              "            + ' to learn more about interactive tables.';\n",
              "          element.innerHTML = '';\n",
              "          dataTable['output_type'] = 'display_data';\n",
              "          await google.colab.output.renderOutput(dataTable, element);\n",
              "          const docLink = document.createElement('div');\n",
              "          docLink.innerHTML = docLinkHtml;\n",
              "          element.appendChild(docLink);\n",
              "        }\n",
              "      </script>\n",
              "    </div>\n",
              "  </div>\n",
              "  "
            ]
          },
          "metadata": {},
          "execution_count": 17
        }
      ]
    },
    {
      "cell_type": "markdown",
      "source": [
        "## Cleaning Data"
      ],
      "metadata": {
        "id": "ccg1AJ5RB1lQ"
      }
    },
    {
      "cell_type": "markdown",
      "source": [
        "### Menampilkan Jumlah Data dalam Kolom dengan Data Kosong"
      ],
      "metadata": {
        "id": "eh7CFsOl0Rsc"
      }
    },
    {
      "cell_type": "code",
      "source": [
        "df.isna().sum()"
      ],
      "metadata": {
        "id": "17erzF1VwkXI",
        "outputId": "a0f53372-d8f6-4342-e4d5-2215402a8b95",
        "colab": {
          "base_uri": "https://localhost:8080/"
        }
      },
      "execution_count": null,
      "outputs": [
        {
          "output_type": "execute_result",
          "data": {
            "text/plain": [
              "ID_Nasabah               0\n",
              "JenisKelamin            13\n",
              "StatusPernikahan         3\n",
              "JumTanggungan           15\n",
              "Pendidikan               0\n",
              "Wiraswasta              32\n",
              "IncomeNasabah            0\n",
              "IncomePasangan           0\n",
              "JumlahPinjaman          22\n",
              "JangkaWaktuPinjaman     14\n",
              "Credit_History          50\n",
              "WilayahTempatTinggal     0\n",
              "StatusPinjaman           0\n",
              "dtype: int64"
            ]
          },
          "metadata": {},
          "execution_count": 18
        }
      ]
    },
    {
      "cell_type": "markdown",
      "source": [
        "### Mengubah data kosong dengan modus atau mean"
      ],
      "metadata": {
        "id": "ZgyymXFl0WP0"
      }
    },
    {
      "cell_type": "code",
      "source": [
        "df[\"Credit_History\"] = df[\"Credit_History\"].fillna(df[\"Credit_History\"].mean()) \n",
        "df[\"StatusPernikahan\"] = df[\"StatusPernikahan\"].fillna(df[\"StatusPernikahan\"].mode()[0])\n",
        "df[\"JenisKelamin\"] = df[\"JenisKelamin\"].fillna(df[\"JenisKelamin\"].mode()[0])\n",
        "df[\"JumTanggungan\"] = df[\"JumTanggungan\"].fillna(df[\"JumTanggungan\"].mean())\n",
        "df[\"Wiraswasta\"] = df[\"Wiraswasta\"].fillna(df[\"Wiraswasta\"].mode()[0])\n",
        "df[\"JumlahPinjaman\"] = df[\"JumlahPinjaman\"].fillna(df[\"JumlahPinjaman\"].mean())\n",
        "df[\"JangkaWaktuPinjaman\"] = df[\"JangkaWaktuPinjaman\"].fillna(df[\"JangkaWaktuPinjaman\"].mean())"
      ],
      "metadata": {
        "id": "MjpflnI-vxVO"
      },
      "execution_count": null,
      "outputs": []
    },
    {
      "cell_type": "code",
      "source": [
        "df"
      ],
      "metadata": {
        "id": "A0VF_p5Qv-KN",
        "outputId": "9051dad3-3015-4ce0-a000-2abe81f470fa",
        "colab": {
          "base_uri": "https://localhost:8080/",
          "height": 505
        }
      },
      "execution_count": null,
      "outputs": [
        {
          "output_type": "execute_result",
          "data": {
            "text/plain": [
              "    ID_Nasabah JenisKelamin StatusPernikahan  JumTanggungan    Pendidikan  \\\n",
              "0     LP001002         Male               No            0.0      Graduate   \n",
              "1     LP001003         Male              Yes            1.0      Graduate   \n",
              "2     LP001005         Male              Yes            0.0      Graduate   \n",
              "3     LP001006         Male              Yes            0.0  Not Graduate   \n",
              "4     LP001008         Male               No            0.0      Graduate   \n",
              "..         ...          ...              ...            ...           ...   \n",
              "609   LP002978       Female               No            0.0      Graduate   \n",
              "610   LP002979         Male              Yes            3.0      Graduate   \n",
              "611   LP002983         Male              Yes            1.0      Graduate   \n",
              "612   LP002984         Male              Yes            2.0      Graduate   \n",
              "613   LP002990       Female               No            0.0      Graduate   \n",
              "\n",
              "    Wiraswasta  IncomeNasabah  IncomePasangan  JumlahPinjaman  \\\n",
              "0           No           5849               0      146.412162   \n",
              "1           No           4583            1508      128.000000   \n",
              "2          Yes           3000               0       66.000000   \n",
              "3           No           2583            2358      120.000000   \n",
              "4           No           6000               0      141.000000   \n",
              "..         ...            ...             ...             ...   \n",
              "609         No           2900               0       71.000000   \n",
              "610         No           4106               0       40.000000   \n",
              "611         No           8072             240      253.000000   \n",
              "612         No           7583               0      187.000000   \n",
              "613        Yes           4583               0      133.000000   \n",
              "\n",
              "     JangkaWaktuPinjaman  Credit_History WilayahTempatTinggal StatusPinjaman  \n",
              "0                  360.0             1.0                Urban              Y  \n",
              "1                  360.0             1.0                Rural              N  \n",
              "2                  360.0             1.0                Urban              Y  \n",
              "3                  360.0             1.0                Urban              Y  \n",
              "4                  360.0             1.0                Urban              Y  \n",
              "..                   ...             ...                  ...            ...  \n",
              "609                360.0             1.0                Rural              Y  \n",
              "610                180.0             1.0                Rural              Y  \n",
              "611                360.0             1.0                Urban              Y  \n",
              "612                360.0             1.0                Urban              Y  \n",
              "613                360.0             0.0            Semiurban              N  \n",
              "\n",
              "[614 rows x 13 columns]"
            ],
            "text/html": [
              "\n",
              "  <div id=\"df-117901b6-cde2-4be7-a65e-6e70e74c4556\">\n",
              "    <div class=\"colab-df-container\">\n",
              "      <div>\n",
              "<style scoped>\n",
              "    .dataframe tbody tr th:only-of-type {\n",
              "        vertical-align: middle;\n",
              "    }\n",
              "\n",
              "    .dataframe tbody tr th {\n",
              "        vertical-align: top;\n",
              "    }\n",
              "\n",
              "    .dataframe thead th {\n",
              "        text-align: right;\n",
              "    }\n",
              "</style>\n",
              "<table border=\"1\" class=\"dataframe\">\n",
              "  <thead>\n",
              "    <tr style=\"text-align: right;\">\n",
              "      <th></th>\n",
              "      <th>ID_Nasabah</th>\n",
              "      <th>JenisKelamin</th>\n",
              "      <th>StatusPernikahan</th>\n",
              "      <th>JumTanggungan</th>\n",
              "      <th>Pendidikan</th>\n",
              "      <th>Wiraswasta</th>\n",
              "      <th>IncomeNasabah</th>\n",
              "      <th>IncomePasangan</th>\n",
              "      <th>JumlahPinjaman</th>\n",
              "      <th>JangkaWaktuPinjaman</th>\n",
              "      <th>Credit_History</th>\n",
              "      <th>WilayahTempatTinggal</th>\n",
              "      <th>StatusPinjaman</th>\n",
              "    </tr>\n",
              "  </thead>\n",
              "  <tbody>\n",
              "    <tr>\n",
              "      <th>0</th>\n",
              "      <td>LP001002</td>\n",
              "      <td>Male</td>\n",
              "      <td>No</td>\n",
              "      <td>0.0</td>\n",
              "      <td>Graduate</td>\n",
              "      <td>No</td>\n",
              "      <td>5849</td>\n",
              "      <td>0</td>\n",
              "      <td>146.412162</td>\n",
              "      <td>360.0</td>\n",
              "      <td>1.0</td>\n",
              "      <td>Urban</td>\n",
              "      <td>Y</td>\n",
              "    </tr>\n",
              "    <tr>\n",
              "      <th>1</th>\n",
              "      <td>LP001003</td>\n",
              "      <td>Male</td>\n",
              "      <td>Yes</td>\n",
              "      <td>1.0</td>\n",
              "      <td>Graduate</td>\n",
              "      <td>No</td>\n",
              "      <td>4583</td>\n",
              "      <td>1508</td>\n",
              "      <td>128.000000</td>\n",
              "      <td>360.0</td>\n",
              "      <td>1.0</td>\n",
              "      <td>Rural</td>\n",
              "      <td>N</td>\n",
              "    </tr>\n",
              "    <tr>\n",
              "      <th>2</th>\n",
              "      <td>LP001005</td>\n",
              "      <td>Male</td>\n",
              "      <td>Yes</td>\n",
              "      <td>0.0</td>\n",
              "      <td>Graduate</td>\n",
              "      <td>Yes</td>\n",
              "      <td>3000</td>\n",
              "      <td>0</td>\n",
              "      <td>66.000000</td>\n",
              "      <td>360.0</td>\n",
              "      <td>1.0</td>\n",
              "      <td>Urban</td>\n",
              "      <td>Y</td>\n",
              "    </tr>\n",
              "    <tr>\n",
              "      <th>3</th>\n",
              "      <td>LP001006</td>\n",
              "      <td>Male</td>\n",
              "      <td>Yes</td>\n",
              "      <td>0.0</td>\n",
              "      <td>Not Graduate</td>\n",
              "      <td>No</td>\n",
              "      <td>2583</td>\n",
              "      <td>2358</td>\n",
              "      <td>120.000000</td>\n",
              "      <td>360.0</td>\n",
              "      <td>1.0</td>\n",
              "      <td>Urban</td>\n",
              "      <td>Y</td>\n",
              "    </tr>\n",
              "    <tr>\n",
              "      <th>4</th>\n",
              "      <td>LP001008</td>\n",
              "      <td>Male</td>\n",
              "      <td>No</td>\n",
              "      <td>0.0</td>\n",
              "      <td>Graduate</td>\n",
              "      <td>No</td>\n",
              "      <td>6000</td>\n",
              "      <td>0</td>\n",
              "      <td>141.000000</td>\n",
              "      <td>360.0</td>\n",
              "      <td>1.0</td>\n",
              "      <td>Urban</td>\n",
              "      <td>Y</td>\n",
              "    </tr>\n",
              "    <tr>\n",
              "      <th>...</th>\n",
              "      <td>...</td>\n",
              "      <td>...</td>\n",
              "      <td>...</td>\n",
              "      <td>...</td>\n",
              "      <td>...</td>\n",
              "      <td>...</td>\n",
              "      <td>...</td>\n",
              "      <td>...</td>\n",
              "      <td>...</td>\n",
              "      <td>...</td>\n",
              "      <td>...</td>\n",
              "      <td>...</td>\n",
              "      <td>...</td>\n",
              "    </tr>\n",
              "    <tr>\n",
              "      <th>609</th>\n",
              "      <td>LP002978</td>\n",
              "      <td>Female</td>\n",
              "      <td>No</td>\n",
              "      <td>0.0</td>\n",
              "      <td>Graduate</td>\n",
              "      <td>No</td>\n",
              "      <td>2900</td>\n",
              "      <td>0</td>\n",
              "      <td>71.000000</td>\n",
              "      <td>360.0</td>\n",
              "      <td>1.0</td>\n",
              "      <td>Rural</td>\n",
              "      <td>Y</td>\n",
              "    </tr>\n",
              "    <tr>\n",
              "      <th>610</th>\n",
              "      <td>LP002979</td>\n",
              "      <td>Male</td>\n",
              "      <td>Yes</td>\n",
              "      <td>3.0</td>\n",
              "      <td>Graduate</td>\n",
              "      <td>No</td>\n",
              "      <td>4106</td>\n",
              "      <td>0</td>\n",
              "      <td>40.000000</td>\n",
              "      <td>180.0</td>\n",
              "      <td>1.0</td>\n",
              "      <td>Rural</td>\n",
              "      <td>Y</td>\n",
              "    </tr>\n",
              "    <tr>\n",
              "      <th>611</th>\n",
              "      <td>LP002983</td>\n",
              "      <td>Male</td>\n",
              "      <td>Yes</td>\n",
              "      <td>1.0</td>\n",
              "      <td>Graduate</td>\n",
              "      <td>No</td>\n",
              "      <td>8072</td>\n",
              "      <td>240</td>\n",
              "      <td>253.000000</td>\n",
              "      <td>360.0</td>\n",
              "      <td>1.0</td>\n",
              "      <td>Urban</td>\n",
              "      <td>Y</td>\n",
              "    </tr>\n",
              "    <tr>\n",
              "      <th>612</th>\n",
              "      <td>LP002984</td>\n",
              "      <td>Male</td>\n",
              "      <td>Yes</td>\n",
              "      <td>2.0</td>\n",
              "      <td>Graduate</td>\n",
              "      <td>No</td>\n",
              "      <td>7583</td>\n",
              "      <td>0</td>\n",
              "      <td>187.000000</td>\n",
              "      <td>360.0</td>\n",
              "      <td>1.0</td>\n",
              "      <td>Urban</td>\n",
              "      <td>Y</td>\n",
              "    </tr>\n",
              "    <tr>\n",
              "      <th>613</th>\n",
              "      <td>LP002990</td>\n",
              "      <td>Female</td>\n",
              "      <td>No</td>\n",
              "      <td>0.0</td>\n",
              "      <td>Graduate</td>\n",
              "      <td>Yes</td>\n",
              "      <td>4583</td>\n",
              "      <td>0</td>\n",
              "      <td>133.000000</td>\n",
              "      <td>360.0</td>\n",
              "      <td>0.0</td>\n",
              "      <td>Semiurban</td>\n",
              "      <td>N</td>\n",
              "    </tr>\n",
              "  </tbody>\n",
              "</table>\n",
              "<p>614 rows × 13 columns</p>\n",
              "</div>\n",
              "      <button class=\"colab-df-convert\" onclick=\"convertToInteractive('df-117901b6-cde2-4be7-a65e-6e70e74c4556')\"\n",
              "              title=\"Convert this dataframe to an interactive table.\"\n",
              "              style=\"display:none;\">\n",
              "        \n",
              "  <svg xmlns=\"http://www.w3.org/2000/svg\" height=\"24px\"viewBox=\"0 0 24 24\"\n",
              "       width=\"24px\">\n",
              "    <path d=\"M0 0h24v24H0V0z\" fill=\"none\"/>\n",
              "    <path d=\"M18.56 5.44l.94 2.06.94-2.06 2.06-.94-2.06-.94-.94-2.06-.94 2.06-2.06.94zm-11 1L8.5 8.5l.94-2.06 2.06-.94-2.06-.94L8.5 2.5l-.94 2.06-2.06.94zm10 10l.94 2.06.94-2.06 2.06-.94-2.06-.94-.94-2.06-.94 2.06-2.06.94z\"/><path d=\"M17.41 7.96l-1.37-1.37c-.4-.4-.92-.59-1.43-.59-.52 0-1.04.2-1.43.59L10.3 9.45l-7.72 7.72c-.78.78-.78 2.05 0 2.83L4 21.41c.39.39.9.59 1.41.59.51 0 1.02-.2 1.41-.59l7.78-7.78 2.81-2.81c.8-.78.8-2.07 0-2.86zM5.41 20L4 18.59l7.72-7.72 1.47 1.35L5.41 20z\"/>\n",
              "  </svg>\n",
              "      </button>\n",
              "      \n",
              "  <style>\n",
              "    .colab-df-container {\n",
              "      display:flex;\n",
              "      flex-wrap:wrap;\n",
              "      gap: 12px;\n",
              "    }\n",
              "\n",
              "    .colab-df-convert {\n",
              "      background-color: #E8F0FE;\n",
              "      border: none;\n",
              "      border-radius: 50%;\n",
              "      cursor: pointer;\n",
              "      display: none;\n",
              "      fill: #1967D2;\n",
              "      height: 32px;\n",
              "      padding: 0 0 0 0;\n",
              "      width: 32px;\n",
              "    }\n",
              "\n",
              "    .colab-df-convert:hover {\n",
              "      background-color: #E2EBFA;\n",
              "      box-shadow: 0px 1px 2px rgba(60, 64, 67, 0.3), 0px 1px 3px 1px rgba(60, 64, 67, 0.15);\n",
              "      fill: #174EA6;\n",
              "    }\n",
              "\n",
              "    [theme=dark] .colab-df-convert {\n",
              "      background-color: #3B4455;\n",
              "      fill: #D2E3FC;\n",
              "    }\n",
              "\n",
              "    [theme=dark] .colab-df-convert:hover {\n",
              "      background-color: #434B5C;\n",
              "      box-shadow: 0px 1px 3px 1px rgba(0, 0, 0, 0.15);\n",
              "      filter: drop-shadow(0px 1px 2px rgba(0, 0, 0, 0.3));\n",
              "      fill: #FFFFFF;\n",
              "    }\n",
              "  </style>\n",
              "\n",
              "      <script>\n",
              "        const buttonEl =\n",
              "          document.querySelector('#df-117901b6-cde2-4be7-a65e-6e70e74c4556 button.colab-df-convert');\n",
              "        buttonEl.style.display =\n",
              "          google.colab.kernel.accessAllowed ? 'block' : 'none';\n",
              "\n",
              "        async function convertToInteractive(key) {\n",
              "          const element = document.querySelector('#df-117901b6-cde2-4be7-a65e-6e70e74c4556');\n",
              "          const dataTable =\n",
              "            await google.colab.kernel.invokeFunction('convertToInteractive',\n",
              "                                                     [key], {});\n",
              "          if (!dataTable) return;\n",
              "\n",
              "          const docLinkHtml = 'Like what you see? Visit the ' +\n",
              "            '<a target=\"_blank\" href=https://colab.research.google.com/notebooks/data_table.ipynb>data table notebook</a>'\n",
              "            + ' to learn more about interactive tables.';\n",
              "          element.innerHTML = '';\n",
              "          dataTable['output_type'] = 'display_data';\n",
              "          await google.colab.output.renderOutput(dataTable, element);\n",
              "          const docLink = document.createElement('div');\n",
              "          docLink.innerHTML = docLinkHtml;\n",
              "          element.appendChild(docLink);\n",
              "        }\n",
              "      </script>\n",
              "    </div>\n",
              "  </div>\n",
              "  "
            ]
          },
          "metadata": {},
          "execution_count": 20
        }
      ]
    },
    {
      "cell_type": "markdown",
      "source": [
        "Mengecek apakah masih ada data kosong"
      ],
      "metadata": {
        "id": "Af-ZFSCV0bOV"
      }
    },
    {
      "cell_type": "code",
      "source": [
        "df.isna().sum()"
      ],
      "metadata": {
        "id": "1aN_gzNZtF7b",
        "outputId": "26258752-6db4-4d41-a063-1f78c881d5c3",
        "colab": {
          "base_uri": "https://localhost:8080/"
        }
      },
      "execution_count": null,
      "outputs": [
        {
          "output_type": "execute_result",
          "data": {
            "text/plain": [
              "ID_Nasabah              0\n",
              "JenisKelamin            0\n",
              "StatusPernikahan        0\n",
              "JumTanggungan           0\n",
              "Pendidikan              0\n",
              "Wiraswasta              0\n",
              "IncomeNasabah           0\n",
              "IncomePasangan          0\n",
              "JumlahPinjaman          0\n",
              "JangkaWaktuPinjaman     0\n",
              "Credit_History          0\n",
              "WilayahTempatTinggal    0\n",
              "StatusPinjaman          0\n",
              "dtype: int64"
            ]
          },
          "metadata": {},
          "execution_count": 21
        }
      ]
    },
    {
      "cell_type": "code",
      "source": [
        "df['StatusPinjaman'] = df['StatusPinjaman'].replace({'Y': True, 'N': False})"
      ],
      "metadata": {
        "id": "iaiIbe3Wg0BU"
      },
      "execution_count": null,
      "outputs": []
    },
    {
      "cell_type": "markdown",
      "source": [
        "## Slicing Data"
      ],
      "metadata": {
        "id": "nlbcNFe7CLP9"
      }
    },
    {
      "cell_type": "markdown",
      "source": [
        "Slicing atau pemilihan sebagian data digunakan untuk memperkecil ukuran dataset dan memfokuskan pada data yang relevan atau menarik untuk dianalisis."
      ],
      "metadata": {
        "id": "E-y99UDw-0-U"
      }
    },
    {
      "cell_type": "code",
      "source": [
        "slicing_data = df.iloc[0:1000, 1:9]"
      ],
      "metadata": {
        "id": "xzYEWuiE5T-C"
      },
      "execution_count": null,
      "outputs": []
    },
    {
      "cell_type": "markdown",
      "source": [
        "Slicing Data dengan kategori kolom ke 2 hingga 8"
      ],
      "metadata": {
        "id": "YkcApyOP_IQk"
      }
    },
    {
      "cell_type": "code",
      "source": [
        "slicing_data"
      ],
      "metadata": {
        "id": "aJE9-PQL5gKU",
        "outputId": "64e76662-fd4b-416f-aa90-06e6b7c93a32",
        "colab": {
          "base_uri": "https://localhost:8080/",
          "height": 423
        }
      },
      "execution_count": null,
      "outputs": [
        {
          "output_type": "execute_result",
          "data": {
            "text/plain": [
              "    JenisKelamin StatusPernikahan  JumTanggungan    Pendidikan Wiraswasta  \\\n",
              "0           Male               No            0.0      Graduate         No   \n",
              "1           Male              Yes            1.0      Graduate         No   \n",
              "2           Male              Yes            0.0      Graduate        Yes   \n",
              "3           Male              Yes            0.0  Not Graduate         No   \n",
              "4           Male               No            0.0      Graduate         No   \n",
              "..           ...              ...            ...           ...        ...   \n",
              "609       Female               No            0.0      Graduate         No   \n",
              "610         Male              Yes            3.0      Graduate         No   \n",
              "611         Male              Yes            1.0      Graduate         No   \n",
              "612         Male              Yes            2.0      Graduate         No   \n",
              "613       Female               No            0.0      Graduate        Yes   \n",
              "\n",
              "     IncomeNasabah  IncomePasangan  JumlahPinjaman  \n",
              "0             5849               0      146.412162  \n",
              "1             4583            1508      128.000000  \n",
              "2             3000               0       66.000000  \n",
              "3             2583            2358      120.000000  \n",
              "4             6000               0      141.000000  \n",
              "..             ...             ...             ...  \n",
              "609           2900               0       71.000000  \n",
              "610           4106               0       40.000000  \n",
              "611           8072             240      253.000000  \n",
              "612           7583               0      187.000000  \n",
              "613           4583               0      133.000000  \n",
              "\n",
              "[614 rows x 8 columns]"
            ],
            "text/html": [
              "\n",
              "  <div id=\"df-435363a9-439f-4fdd-81c9-ce05f5012d02\">\n",
              "    <div class=\"colab-df-container\">\n",
              "      <div>\n",
              "<style scoped>\n",
              "    .dataframe tbody tr th:only-of-type {\n",
              "        vertical-align: middle;\n",
              "    }\n",
              "\n",
              "    .dataframe tbody tr th {\n",
              "        vertical-align: top;\n",
              "    }\n",
              "\n",
              "    .dataframe thead th {\n",
              "        text-align: right;\n",
              "    }\n",
              "</style>\n",
              "<table border=\"1\" class=\"dataframe\">\n",
              "  <thead>\n",
              "    <tr style=\"text-align: right;\">\n",
              "      <th></th>\n",
              "      <th>JenisKelamin</th>\n",
              "      <th>StatusPernikahan</th>\n",
              "      <th>JumTanggungan</th>\n",
              "      <th>Pendidikan</th>\n",
              "      <th>Wiraswasta</th>\n",
              "      <th>IncomeNasabah</th>\n",
              "      <th>IncomePasangan</th>\n",
              "      <th>JumlahPinjaman</th>\n",
              "    </tr>\n",
              "  </thead>\n",
              "  <tbody>\n",
              "    <tr>\n",
              "      <th>0</th>\n",
              "      <td>Male</td>\n",
              "      <td>No</td>\n",
              "      <td>0.0</td>\n",
              "      <td>Graduate</td>\n",
              "      <td>No</td>\n",
              "      <td>5849</td>\n",
              "      <td>0</td>\n",
              "      <td>146.412162</td>\n",
              "    </tr>\n",
              "    <tr>\n",
              "      <th>1</th>\n",
              "      <td>Male</td>\n",
              "      <td>Yes</td>\n",
              "      <td>1.0</td>\n",
              "      <td>Graduate</td>\n",
              "      <td>No</td>\n",
              "      <td>4583</td>\n",
              "      <td>1508</td>\n",
              "      <td>128.000000</td>\n",
              "    </tr>\n",
              "    <tr>\n",
              "      <th>2</th>\n",
              "      <td>Male</td>\n",
              "      <td>Yes</td>\n",
              "      <td>0.0</td>\n",
              "      <td>Graduate</td>\n",
              "      <td>Yes</td>\n",
              "      <td>3000</td>\n",
              "      <td>0</td>\n",
              "      <td>66.000000</td>\n",
              "    </tr>\n",
              "    <tr>\n",
              "      <th>3</th>\n",
              "      <td>Male</td>\n",
              "      <td>Yes</td>\n",
              "      <td>0.0</td>\n",
              "      <td>Not Graduate</td>\n",
              "      <td>No</td>\n",
              "      <td>2583</td>\n",
              "      <td>2358</td>\n",
              "      <td>120.000000</td>\n",
              "    </tr>\n",
              "    <tr>\n",
              "      <th>4</th>\n",
              "      <td>Male</td>\n",
              "      <td>No</td>\n",
              "      <td>0.0</td>\n",
              "      <td>Graduate</td>\n",
              "      <td>No</td>\n",
              "      <td>6000</td>\n",
              "      <td>0</td>\n",
              "      <td>141.000000</td>\n",
              "    </tr>\n",
              "    <tr>\n",
              "      <th>...</th>\n",
              "      <td>...</td>\n",
              "      <td>...</td>\n",
              "      <td>...</td>\n",
              "      <td>...</td>\n",
              "      <td>...</td>\n",
              "      <td>...</td>\n",
              "      <td>...</td>\n",
              "      <td>...</td>\n",
              "    </tr>\n",
              "    <tr>\n",
              "      <th>609</th>\n",
              "      <td>Female</td>\n",
              "      <td>No</td>\n",
              "      <td>0.0</td>\n",
              "      <td>Graduate</td>\n",
              "      <td>No</td>\n",
              "      <td>2900</td>\n",
              "      <td>0</td>\n",
              "      <td>71.000000</td>\n",
              "    </tr>\n",
              "    <tr>\n",
              "      <th>610</th>\n",
              "      <td>Male</td>\n",
              "      <td>Yes</td>\n",
              "      <td>3.0</td>\n",
              "      <td>Graduate</td>\n",
              "      <td>No</td>\n",
              "      <td>4106</td>\n",
              "      <td>0</td>\n",
              "      <td>40.000000</td>\n",
              "    </tr>\n",
              "    <tr>\n",
              "      <th>611</th>\n",
              "      <td>Male</td>\n",
              "      <td>Yes</td>\n",
              "      <td>1.0</td>\n",
              "      <td>Graduate</td>\n",
              "      <td>No</td>\n",
              "      <td>8072</td>\n",
              "      <td>240</td>\n",
              "      <td>253.000000</td>\n",
              "    </tr>\n",
              "    <tr>\n",
              "      <th>612</th>\n",
              "      <td>Male</td>\n",
              "      <td>Yes</td>\n",
              "      <td>2.0</td>\n",
              "      <td>Graduate</td>\n",
              "      <td>No</td>\n",
              "      <td>7583</td>\n",
              "      <td>0</td>\n",
              "      <td>187.000000</td>\n",
              "    </tr>\n",
              "    <tr>\n",
              "      <th>613</th>\n",
              "      <td>Female</td>\n",
              "      <td>No</td>\n",
              "      <td>0.0</td>\n",
              "      <td>Graduate</td>\n",
              "      <td>Yes</td>\n",
              "      <td>4583</td>\n",
              "      <td>0</td>\n",
              "      <td>133.000000</td>\n",
              "    </tr>\n",
              "  </tbody>\n",
              "</table>\n",
              "<p>614 rows × 8 columns</p>\n",
              "</div>\n",
              "      <button class=\"colab-df-convert\" onclick=\"convertToInteractive('df-435363a9-439f-4fdd-81c9-ce05f5012d02')\"\n",
              "              title=\"Convert this dataframe to an interactive table.\"\n",
              "              style=\"display:none;\">\n",
              "        \n",
              "  <svg xmlns=\"http://www.w3.org/2000/svg\" height=\"24px\"viewBox=\"0 0 24 24\"\n",
              "       width=\"24px\">\n",
              "    <path d=\"M0 0h24v24H0V0z\" fill=\"none\"/>\n",
              "    <path d=\"M18.56 5.44l.94 2.06.94-2.06 2.06-.94-2.06-.94-.94-2.06-.94 2.06-2.06.94zm-11 1L8.5 8.5l.94-2.06 2.06-.94-2.06-.94L8.5 2.5l-.94 2.06-2.06.94zm10 10l.94 2.06.94-2.06 2.06-.94-2.06-.94-.94-2.06-.94 2.06-2.06.94z\"/><path d=\"M17.41 7.96l-1.37-1.37c-.4-.4-.92-.59-1.43-.59-.52 0-1.04.2-1.43.59L10.3 9.45l-7.72 7.72c-.78.78-.78 2.05 0 2.83L4 21.41c.39.39.9.59 1.41.59.51 0 1.02-.2 1.41-.59l7.78-7.78 2.81-2.81c.8-.78.8-2.07 0-2.86zM5.41 20L4 18.59l7.72-7.72 1.47 1.35L5.41 20z\"/>\n",
              "  </svg>\n",
              "      </button>\n",
              "      \n",
              "  <style>\n",
              "    .colab-df-container {\n",
              "      display:flex;\n",
              "      flex-wrap:wrap;\n",
              "      gap: 12px;\n",
              "    }\n",
              "\n",
              "    .colab-df-convert {\n",
              "      background-color: #E8F0FE;\n",
              "      border: none;\n",
              "      border-radius: 50%;\n",
              "      cursor: pointer;\n",
              "      display: none;\n",
              "      fill: #1967D2;\n",
              "      height: 32px;\n",
              "      padding: 0 0 0 0;\n",
              "      width: 32px;\n",
              "    }\n",
              "\n",
              "    .colab-df-convert:hover {\n",
              "      background-color: #E2EBFA;\n",
              "      box-shadow: 0px 1px 2px rgba(60, 64, 67, 0.3), 0px 1px 3px 1px rgba(60, 64, 67, 0.15);\n",
              "      fill: #174EA6;\n",
              "    }\n",
              "\n",
              "    [theme=dark] .colab-df-convert {\n",
              "      background-color: #3B4455;\n",
              "      fill: #D2E3FC;\n",
              "    }\n",
              "\n",
              "    [theme=dark] .colab-df-convert:hover {\n",
              "      background-color: #434B5C;\n",
              "      box-shadow: 0px 1px 3px 1px rgba(0, 0, 0, 0.15);\n",
              "      filter: drop-shadow(0px 1px 2px rgba(0, 0, 0, 0.3));\n",
              "      fill: #FFFFFF;\n",
              "    }\n",
              "  </style>\n",
              "\n",
              "      <script>\n",
              "        const buttonEl =\n",
              "          document.querySelector('#df-435363a9-439f-4fdd-81c9-ce05f5012d02 button.colab-df-convert');\n",
              "        buttonEl.style.display =\n",
              "          google.colab.kernel.accessAllowed ? 'block' : 'none';\n",
              "\n",
              "        async function convertToInteractive(key) {\n",
              "          const element = document.querySelector('#df-435363a9-439f-4fdd-81c9-ce05f5012d02');\n",
              "          const dataTable =\n",
              "            await google.colab.kernel.invokeFunction('convertToInteractive',\n",
              "                                                     [key], {});\n",
              "          if (!dataTable) return;\n",
              "\n",
              "          const docLinkHtml = 'Like what you see? Visit the ' +\n",
              "            '<a target=\"_blank\" href=https://colab.research.google.com/notebooks/data_table.ipynb>data table notebook</a>'\n",
              "            + ' to learn more about interactive tables.';\n",
              "          element.innerHTML = '';\n",
              "          dataTable['output_type'] = 'display_data';\n",
              "          await google.colab.output.renderOutput(dataTable, element);\n",
              "          const docLink = document.createElement('div');\n",
              "          docLink.innerHTML = docLinkHtml;\n",
              "          element.appendChild(docLink);\n",
              "        }\n",
              "      </script>\n",
              "    </div>\n",
              "  </div>\n",
              "  "
            ]
          },
          "metadata": {},
          "execution_count": 24
        }
      ]
    },
    {
      "cell_type": "markdown",
      "source": [
        "### Data Reduction"
      ],
      "metadata": {
        "id": "nPB72ZZWCGad"
      }
    },
    {
      "cell_type": "markdown",
      "source": [
        "### Penghapusan kolom yang dinilai tidak diperlukan dan menambah kolom Status Pinjaman"
      ],
      "metadata": {
        "id": "Qkg_D9Ek_Y5E"
      }
    },
    {
      "cell_type": "code",
      "source": [
        "data = slicing_data.drop(columns=[\"StatusPernikahan\"])\n",
        "data = data.drop(columns=[\"Wiraswasta\"])\n",
        "data = data.drop(columns=[\"IncomePasangan\"])\n",
        "data[\"Credit_History \"]=df[\"Credit_History\"]\n",
        "data[\"StatusPinjaman\"]=df[\"StatusPinjaman\"]"
      ],
      "metadata": {
        "id": "IGVX3IPu5tVW"
      },
      "execution_count": null,
      "outputs": []
    },
    {
      "cell_type": "code",
      "source": [
        "data"
      ],
      "metadata": {
        "id": "S5NdFU_b5yVM",
        "outputId": "cfa755fe-a85f-42cb-e1b3-17937e79c9b3",
        "colab": {
          "base_uri": "https://localhost:8080/",
          "height": 423
        }
      },
      "execution_count": null,
      "outputs": [
        {
          "output_type": "execute_result",
          "data": {
            "text/plain": [
              "    JenisKelamin  JumTanggungan    Pendidikan  IncomeNasabah  JumlahPinjaman  \\\n",
              "0           Male            0.0      Graduate           5849      146.412162   \n",
              "1           Male            1.0      Graduate           4583      128.000000   \n",
              "2           Male            0.0      Graduate           3000       66.000000   \n",
              "3           Male            0.0  Not Graduate           2583      120.000000   \n",
              "4           Male            0.0      Graduate           6000      141.000000   \n",
              "..           ...            ...           ...            ...             ...   \n",
              "609       Female            0.0      Graduate           2900       71.000000   \n",
              "610         Male            3.0      Graduate           4106       40.000000   \n",
              "611         Male            1.0      Graduate           8072      253.000000   \n",
              "612         Male            2.0      Graduate           7583      187.000000   \n",
              "613       Female            0.0      Graduate           4583      133.000000   \n",
              "\n",
              "     Credit_History   StatusPinjaman  \n",
              "0                1.0            True  \n",
              "1                1.0           False  \n",
              "2                1.0            True  \n",
              "3                1.0            True  \n",
              "4                1.0            True  \n",
              "..               ...             ...  \n",
              "609              1.0            True  \n",
              "610              1.0            True  \n",
              "611              1.0            True  \n",
              "612              1.0            True  \n",
              "613              0.0           False  \n",
              "\n",
              "[614 rows x 7 columns]"
            ],
            "text/html": [
              "\n",
              "  <div id=\"df-97d95698-c59c-45f4-a05e-1364db230af9\">\n",
              "    <div class=\"colab-df-container\">\n",
              "      <div>\n",
              "<style scoped>\n",
              "    .dataframe tbody tr th:only-of-type {\n",
              "        vertical-align: middle;\n",
              "    }\n",
              "\n",
              "    .dataframe tbody tr th {\n",
              "        vertical-align: top;\n",
              "    }\n",
              "\n",
              "    .dataframe thead th {\n",
              "        text-align: right;\n",
              "    }\n",
              "</style>\n",
              "<table border=\"1\" class=\"dataframe\">\n",
              "  <thead>\n",
              "    <tr style=\"text-align: right;\">\n",
              "      <th></th>\n",
              "      <th>JenisKelamin</th>\n",
              "      <th>JumTanggungan</th>\n",
              "      <th>Pendidikan</th>\n",
              "      <th>IncomeNasabah</th>\n",
              "      <th>JumlahPinjaman</th>\n",
              "      <th>Credit_History</th>\n",
              "      <th>StatusPinjaman</th>\n",
              "    </tr>\n",
              "  </thead>\n",
              "  <tbody>\n",
              "    <tr>\n",
              "      <th>0</th>\n",
              "      <td>Male</td>\n",
              "      <td>0.0</td>\n",
              "      <td>Graduate</td>\n",
              "      <td>5849</td>\n",
              "      <td>146.412162</td>\n",
              "      <td>1.0</td>\n",
              "      <td>True</td>\n",
              "    </tr>\n",
              "    <tr>\n",
              "      <th>1</th>\n",
              "      <td>Male</td>\n",
              "      <td>1.0</td>\n",
              "      <td>Graduate</td>\n",
              "      <td>4583</td>\n",
              "      <td>128.000000</td>\n",
              "      <td>1.0</td>\n",
              "      <td>False</td>\n",
              "    </tr>\n",
              "    <tr>\n",
              "      <th>2</th>\n",
              "      <td>Male</td>\n",
              "      <td>0.0</td>\n",
              "      <td>Graduate</td>\n",
              "      <td>3000</td>\n",
              "      <td>66.000000</td>\n",
              "      <td>1.0</td>\n",
              "      <td>True</td>\n",
              "    </tr>\n",
              "    <tr>\n",
              "      <th>3</th>\n",
              "      <td>Male</td>\n",
              "      <td>0.0</td>\n",
              "      <td>Not Graduate</td>\n",
              "      <td>2583</td>\n",
              "      <td>120.000000</td>\n",
              "      <td>1.0</td>\n",
              "      <td>True</td>\n",
              "    </tr>\n",
              "    <tr>\n",
              "      <th>4</th>\n",
              "      <td>Male</td>\n",
              "      <td>0.0</td>\n",
              "      <td>Graduate</td>\n",
              "      <td>6000</td>\n",
              "      <td>141.000000</td>\n",
              "      <td>1.0</td>\n",
              "      <td>True</td>\n",
              "    </tr>\n",
              "    <tr>\n",
              "      <th>...</th>\n",
              "      <td>...</td>\n",
              "      <td>...</td>\n",
              "      <td>...</td>\n",
              "      <td>...</td>\n",
              "      <td>...</td>\n",
              "      <td>...</td>\n",
              "      <td>...</td>\n",
              "    </tr>\n",
              "    <tr>\n",
              "      <th>609</th>\n",
              "      <td>Female</td>\n",
              "      <td>0.0</td>\n",
              "      <td>Graduate</td>\n",
              "      <td>2900</td>\n",
              "      <td>71.000000</td>\n",
              "      <td>1.0</td>\n",
              "      <td>True</td>\n",
              "    </tr>\n",
              "    <tr>\n",
              "      <th>610</th>\n",
              "      <td>Male</td>\n",
              "      <td>3.0</td>\n",
              "      <td>Graduate</td>\n",
              "      <td>4106</td>\n",
              "      <td>40.000000</td>\n",
              "      <td>1.0</td>\n",
              "      <td>True</td>\n",
              "    </tr>\n",
              "    <tr>\n",
              "      <th>611</th>\n",
              "      <td>Male</td>\n",
              "      <td>1.0</td>\n",
              "      <td>Graduate</td>\n",
              "      <td>8072</td>\n",
              "      <td>253.000000</td>\n",
              "      <td>1.0</td>\n",
              "      <td>True</td>\n",
              "    </tr>\n",
              "    <tr>\n",
              "      <th>612</th>\n",
              "      <td>Male</td>\n",
              "      <td>2.0</td>\n",
              "      <td>Graduate</td>\n",
              "      <td>7583</td>\n",
              "      <td>187.000000</td>\n",
              "      <td>1.0</td>\n",
              "      <td>True</td>\n",
              "    </tr>\n",
              "    <tr>\n",
              "      <th>613</th>\n",
              "      <td>Female</td>\n",
              "      <td>0.0</td>\n",
              "      <td>Graduate</td>\n",
              "      <td>4583</td>\n",
              "      <td>133.000000</td>\n",
              "      <td>0.0</td>\n",
              "      <td>False</td>\n",
              "    </tr>\n",
              "  </tbody>\n",
              "</table>\n",
              "<p>614 rows × 7 columns</p>\n",
              "</div>\n",
              "      <button class=\"colab-df-convert\" onclick=\"convertToInteractive('df-97d95698-c59c-45f4-a05e-1364db230af9')\"\n",
              "              title=\"Convert this dataframe to an interactive table.\"\n",
              "              style=\"display:none;\">\n",
              "        \n",
              "  <svg xmlns=\"http://www.w3.org/2000/svg\" height=\"24px\"viewBox=\"0 0 24 24\"\n",
              "       width=\"24px\">\n",
              "    <path d=\"M0 0h24v24H0V0z\" fill=\"none\"/>\n",
              "    <path d=\"M18.56 5.44l.94 2.06.94-2.06 2.06-.94-2.06-.94-.94-2.06-.94 2.06-2.06.94zm-11 1L8.5 8.5l.94-2.06 2.06-.94-2.06-.94L8.5 2.5l-.94 2.06-2.06.94zm10 10l.94 2.06.94-2.06 2.06-.94-2.06-.94-.94-2.06-.94 2.06-2.06.94z\"/><path d=\"M17.41 7.96l-1.37-1.37c-.4-.4-.92-.59-1.43-.59-.52 0-1.04.2-1.43.59L10.3 9.45l-7.72 7.72c-.78.78-.78 2.05 0 2.83L4 21.41c.39.39.9.59 1.41.59.51 0 1.02-.2 1.41-.59l7.78-7.78 2.81-2.81c.8-.78.8-2.07 0-2.86zM5.41 20L4 18.59l7.72-7.72 1.47 1.35L5.41 20z\"/>\n",
              "  </svg>\n",
              "      </button>\n",
              "      \n",
              "  <style>\n",
              "    .colab-df-container {\n",
              "      display:flex;\n",
              "      flex-wrap:wrap;\n",
              "      gap: 12px;\n",
              "    }\n",
              "\n",
              "    .colab-df-convert {\n",
              "      background-color: #E8F0FE;\n",
              "      border: none;\n",
              "      border-radius: 50%;\n",
              "      cursor: pointer;\n",
              "      display: none;\n",
              "      fill: #1967D2;\n",
              "      height: 32px;\n",
              "      padding: 0 0 0 0;\n",
              "      width: 32px;\n",
              "    }\n",
              "\n",
              "    .colab-df-convert:hover {\n",
              "      background-color: #E2EBFA;\n",
              "      box-shadow: 0px 1px 2px rgba(60, 64, 67, 0.3), 0px 1px 3px 1px rgba(60, 64, 67, 0.15);\n",
              "      fill: #174EA6;\n",
              "    }\n",
              "\n",
              "    [theme=dark] .colab-df-convert {\n",
              "      background-color: #3B4455;\n",
              "      fill: #D2E3FC;\n",
              "    }\n",
              "\n",
              "    [theme=dark] .colab-df-convert:hover {\n",
              "      background-color: #434B5C;\n",
              "      box-shadow: 0px 1px 3px 1px rgba(0, 0, 0, 0.15);\n",
              "      filter: drop-shadow(0px 1px 2px rgba(0, 0, 0, 0.3));\n",
              "      fill: #FFFFFF;\n",
              "    }\n",
              "  </style>\n",
              "\n",
              "      <script>\n",
              "        const buttonEl =\n",
              "          document.querySelector('#df-97d95698-c59c-45f4-a05e-1364db230af9 button.colab-df-convert');\n",
              "        buttonEl.style.display =\n",
              "          google.colab.kernel.accessAllowed ? 'block' : 'none';\n",
              "\n",
              "        async function convertToInteractive(key) {\n",
              "          const element = document.querySelector('#df-97d95698-c59c-45f4-a05e-1364db230af9');\n",
              "          const dataTable =\n",
              "            await google.colab.kernel.invokeFunction('convertToInteractive',\n",
              "                                                     [key], {});\n",
              "          if (!dataTable) return;\n",
              "\n",
              "          const docLinkHtml = 'Like what you see? Visit the ' +\n",
              "            '<a target=\"_blank\" href=https://colab.research.google.com/notebooks/data_table.ipynb>data table notebook</a>'\n",
              "            + ' to learn more about interactive tables.';\n",
              "          element.innerHTML = '';\n",
              "          dataTable['output_type'] = 'display_data';\n",
              "          await google.colab.output.renderOutput(dataTable, element);\n",
              "          const docLink = document.createElement('div');\n",
              "          docLink.innerHTML = docLinkHtml;\n",
              "          element.appendChild(docLink);\n",
              "        }\n",
              "      </script>\n",
              "    </div>\n",
              "  </div>\n",
              "  "
            ]
          },
          "metadata": {},
          "execution_count": 26
        }
      ]
    },
    {
      "cell_type": "markdown",
      "source": [
        "### Melakukan Pengkategorian beberapa kolom untuk menampilkan baris yang memenuhi kategori yang diinginkan"
      ],
      "metadata": {
        "id": "4xmERWLmd3Ke"
      }
    },
    {
      "cell_type": "code",
      "source": [
        "data1 = data[data[\"IncomeNasabah\"]>data[\"IncomeNasabah\"].mean()]\n",
        "data2 = data[data[\"JumTanggungan\"]>round(data[\"JumTanggungan\"].mean())]"
      ],
      "metadata": {
        "id": "32YBVXGpd3Kk"
      },
      "execution_count": null,
      "outputs": []
    },
    {
      "cell_type": "code",
      "source": [
        "data[\"IncomeNasabah\"].mean()"
      ],
      "metadata": {
        "id": "PUJXn1mFd3Kk",
        "outputId": "ad384759-3126-4d7a-8d47-25915cb4b2e8",
        "colab": {
          "base_uri": "https://localhost:8080/"
        }
      },
      "execution_count": null,
      "outputs": [
        {
          "output_type": "execute_result",
          "data": {
            "text/plain": [
              "5403.459283387622"
            ]
          },
          "metadata": {},
          "execution_count": 28
        }
      ]
    },
    {
      "cell_type": "code",
      "source": [
        "data1"
      ],
      "metadata": {
        "colab": {
          "base_uri": "https://localhost:8080/",
          "height": 423
        },
        "outputId": "7656606a-1849-4c81-9205-9dc4e5386c8a",
        "id": "3krqSF6Rd3Kl"
      },
      "execution_count": null,
      "outputs": [
        {
          "output_type": "execute_result",
          "data": {
            "text/plain": [
              "    JenisKelamin  JumTanggungan    Pendidikan  IncomeNasabah  JumlahPinjaman  \\\n",
              "0           Male            0.0      Graduate           5849      146.412162   \n",
              "4           Male            0.0      Graduate           6000      141.000000   \n",
              "5           Male            2.0      Graduate           5417      267.000000   \n",
              "9           Male            1.0      Graduate          12841      349.000000   \n",
              "20          Male            0.0  Not Graduate           7660      104.000000   \n",
              "..           ...            ...           ...            ...             ...   \n",
              "599         Male            2.0      Graduate           5780      192.000000   \n",
              "602         Male            3.0      Graduate           5703      128.000000   \n",
              "604       Female            1.0      Graduate          12000      496.000000   \n",
              "611         Male            1.0      Graduate           8072      253.000000   \n",
              "612         Male            2.0      Graduate           7583      187.000000   \n",
              "\n",
              "     Credit_History   StatusPinjaman  \n",
              "0                1.0            True  \n",
              "4                1.0            True  \n",
              "5                1.0            True  \n",
              "9                1.0           False  \n",
              "20               0.0           False  \n",
              "..               ...             ...  \n",
              "599              1.0            True  \n",
              "602              1.0            True  \n",
              "604              1.0            True  \n",
              "611              1.0            True  \n",
              "612              1.0            True  \n",
              "\n",
              "[176 rows x 7 columns]"
            ],
            "text/html": [
              "\n",
              "  <div id=\"df-7567872c-a560-4268-9ac8-1039a8e3e562\">\n",
              "    <div class=\"colab-df-container\">\n",
              "      <div>\n",
              "<style scoped>\n",
              "    .dataframe tbody tr th:only-of-type {\n",
              "        vertical-align: middle;\n",
              "    }\n",
              "\n",
              "    .dataframe tbody tr th {\n",
              "        vertical-align: top;\n",
              "    }\n",
              "\n",
              "    .dataframe thead th {\n",
              "        text-align: right;\n",
              "    }\n",
              "</style>\n",
              "<table border=\"1\" class=\"dataframe\">\n",
              "  <thead>\n",
              "    <tr style=\"text-align: right;\">\n",
              "      <th></th>\n",
              "      <th>JenisKelamin</th>\n",
              "      <th>JumTanggungan</th>\n",
              "      <th>Pendidikan</th>\n",
              "      <th>IncomeNasabah</th>\n",
              "      <th>JumlahPinjaman</th>\n",
              "      <th>Credit_History</th>\n",
              "      <th>StatusPinjaman</th>\n",
              "    </tr>\n",
              "  </thead>\n",
              "  <tbody>\n",
              "    <tr>\n",
              "      <th>0</th>\n",
              "      <td>Male</td>\n",
              "      <td>0.0</td>\n",
              "      <td>Graduate</td>\n",
              "      <td>5849</td>\n",
              "      <td>146.412162</td>\n",
              "      <td>1.0</td>\n",
              "      <td>True</td>\n",
              "    </tr>\n",
              "    <tr>\n",
              "      <th>4</th>\n",
              "      <td>Male</td>\n",
              "      <td>0.0</td>\n",
              "      <td>Graduate</td>\n",
              "      <td>6000</td>\n",
              "      <td>141.000000</td>\n",
              "      <td>1.0</td>\n",
              "      <td>True</td>\n",
              "    </tr>\n",
              "    <tr>\n",
              "      <th>5</th>\n",
              "      <td>Male</td>\n",
              "      <td>2.0</td>\n",
              "      <td>Graduate</td>\n",
              "      <td>5417</td>\n",
              "      <td>267.000000</td>\n",
              "      <td>1.0</td>\n",
              "      <td>True</td>\n",
              "    </tr>\n",
              "    <tr>\n",
              "      <th>9</th>\n",
              "      <td>Male</td>\n",
              "      <td>1.0</td>\n",
              "      <td>Graduate</td>\n",
              "      <td>12841</td>\n",
              "      <td>349.000000</td>\n",
              "      <td>1.0</td>\n",
              "      <td>False</td>\n",
              "    </tr>\n",
              "    <tr>\n",
              "      <th>20</th>\n",
              "      <td>Male</td>\n",
              "      <td>0.0</td>\n",
              "      <td>Not Graduate</td>\n",
              "      <td>7660</td>\n",
              "      <td>104.000000</td>\n",
              "      <td>0.0</td>\n",
              "      <td>False</td>\n",
              "    </tr>\n",
              "    <tr>\n",
              "      <th>...</th>\n",
              "      <td>...</td>\n",
              "      <td>...</td>\n",
              "      <td>...</td>\n",
              "      <td>...</td>\n",
              "      <td>...</td>\n",
              "      <td>...</td>\n",
              "      <td>...</td>\n",
              "    </tr>\n",
              "    <tr>\n",
              "      <th>599</th>\n",
              "      <td>Male</td>\n",
              "      <td>2.0</td>\n",
              "      <td>Graduate</td>\n",
              "      <td>5780</td>\n",
              "      <td>192.000000</td>\n",
              "      <td>1.0</td>\n",
              "      <td>True</td>\n",
              "    </tr>\n",
              "    <tr>\n",
              "      <th>602</th>\n",
              "      <td>Male</td>\n",
              "      <td>3.0</td>\n",
              "      <td>Graduate</td>\n",
              "      <td>5703</td>\n",
              "      <td>128.000000</td>\n",
              "      <td>1.0</td>\n",
              "      <td>True</td>\n",
              "    </tr>\n",
              "    <tr>\n",
              "      <th>604</th>\n",
              "      <td>Female</td>\n",
              "      <td>1.0</td>\n",
              "      <td>Graduate</td>\n",
              "      <td>12000</td>\n",
              "      <td>496.000000</td>\n",
              "      <td>1.0</td>\n",
              "      <td>True</td>\n",
              "    </tr>\n",
              "    <tr>\n",
              "      <th>611</th>\n",
              "      <td>Male</td>\n",
              "      <td>1.0</td>\n",
              "      <td>Graduate</td>\n",
              "      <td>8072</td>\n",
              "      <td>253.000000</td>\n",
              "      <td>1.0</td>\n",
              "      <td>True</td>\n",
              "    </tr>\n",
              "    <tr>\n",
              "      <th>612</th>\n",
              "      <td>Male</td>\n",
              "      <td>2.0</td>\n",
              "      <td>Graduate</td>\n",
              "      <td>7583</td>\n",
              "      <td>187.000000</td>\n",
              "      <td>1.0</td>\n",
              "      <td>True</td>\n",
              "    </tr>\n",
              "  </tbody>\n",
              "</table>\n",
              "<p>176 rows × 7 columns</p>\n",
              "</div>\n",
              "      <button class=\"colab-df-convert\" onclick=\"convertToInteractive('df-7567872c-a560-4268-9ac8-1039a8e3e562')\"\n",
              "              title=\"Convert this dataframe to an interactive table.\"\n",
              "              style=\"display:none;\">\n",
              "        \n",
              "  <svg xmlns=\"http://www.w3.org/2000/svg\" height=\"24px\"viewBox=\"0 0 24 24\"\n",
              "       width=\"24px\">\n",
              "    <path d=\"M0 0h24v24H0V0z\" fill=\"none\"/>\n",
              "    <path d=\"M18.56 5.44l.94 2.06.94-2.06 2.06-.94-2.06-.94-.94-2.06-.94 2.06-2.06.94zm-11 1L8.5 8.5l.94-2.06 2.06-.94-2.06-.94L8.5 2.5l-.94 2.06-2.06.94zm10 10l.94 2.06.94-2.06 2.06-.94-2.06-.94-.94-2.06-.94 2.06-2.06.94z\"/><path d=\"M17.41 7.96l-1.37-1.37c-.4-.4-.92-.59-1.43-.59-.52 0-1.04.2-1.43.59L10.3 9.45l-7.72 7.72c-.78.78-.78 2.05 0 2.83L4 21.41c.39.39.9.59 1.41.59.51 0 1.02-.2 1.41-.59l7.78-7.78 2.81-2.81c.8-.78.8-2.07 0-2.86zM5.41 20L4 18.59l7.72-7.72 1.47 1.35L5.41 20z\"/>\n",
              "  </svg>\n",
              "      </button>\n",
              "      \n",
              "  <style>\n",
              "    .colab-df-container {\n",
              "      display:flex;\n",
              "      flex-wrap:wrap;\n",
              "      gap: 12px;\n",
              "    }\n",
              "\n",
              "    .colab-df-convert {\n",
              "      background-color: #E8F0FE;\n",
              "      border: none;\n",
              "      border-radius: 50%;\n",
              "      cursor: pointer;\n",
              "      display: none;\n",
              "      fill: #1967D2;\n",
              "      height: 32px;\n",
              "      padding: 0 0 0 0;\n",
              "      width: 32px;\n",
              "    }\n",
              "\n",
              "    .colab-df-convert:hover {\n",
              "      background-color: #E2EBFA;\n",
              "      box-shadow: 0px 1px 2px rgba(60, 64, 67, 0.3), 0px 1px 3px 1px rgba(60, 64, 67, 0.15);\n",
              "      fill: #174EA6;\n",
              "    }\n",
              "\n",
              "    [theme=dark] .colab-df-convert {\n",
              "      background-color: #3B4455;\n",
              "      fill: #D2E3FC;\n",
              "    }\n",
              "\n",
              "    [theme=dark] .colab-df-convert:hover {\n",
              "      background-color: #434B5C;\n",
              "      box-shadow: 0px 1px 3px 1px rgba(0, 0, 0, 0.15);\n",
              "      filter: drop-shadow(0px 1px 2px rgba(0, 0, 0, 0.3));\n",
              "      fill: #FFFFFF;\n",
              "    }\n",
              "  </style>\n",
              "\n",
              "      <script>\n",
              "        const buttonEl =\n",
              "          document.querySelector('#df-7567872c-a560-4268-9ac8-1039a8e3e562 button.colab-df-convert');\n",
              "        buttonEl.style.display =\n",
              "          google.colab.kernel.accessAllowed ? 'block' : 'none';\n",
              "\n",
              "        async function convertToInteractive(key) {\n",
              "          const element = document.querySelector('#df-7567872c-a560-4268-9ac8-1039a8e3e562');\n",
              "          const dataTable =\n",
              "            await google.colab.kernel.invokeFunction('convertToInteractive',\n",
              "                                                     [key], {});\n",
              "          if (!dataTable) return;\n",
              "\n",
              "          const docLinkHtml = 'Like what you see? Visit the ' +\n",
              "            '<a target=\"_blank\" href=https://colab.research.google.com/notebooks/data_table.ipynb>data table notebook</a>'\n",
              "            + ' to learn more about interactive tables.';\n",
              "          element.innerHTML = '';\n",
              "          dataTable['output_type'] = 'display_data';\n",
              "          await google.colab.output.renderOutput(dataTable, element);\n",
              "          const docLink = document.createElement('div');\n",
              "          docLink.innerHTML = docLinkHtml;\n",
              "          element.appendChild(docLink);\n",
              "        }\n",
              "      </script>\n",
              "    </div>\n",
              "  </div>\n",
              "  "
            ]
          },
          "metadata": {},
          "execution_count": 29
        }
      ]
    },
    {
      "cell_type": "code",
      "source": [
        "round(data[\"JumTanggungan\"].mean())"
      ],
      "metadata": {
        "id": "5i3hRGH5d3Kl",
        "outputId": "6326331b-7f01-43a3-8faf-ef6439c6594f",
        "colab": {
          "base_uri": "https://localhost:8080/"
        }
      },
      "execution_count": null,
      "outputs": [
        {
          "output_type": "execute_result",
          "data": {
            "text/plain": [
              "1"
            ]
          },
          "metadata": {},
          "execution_count": 30
        }
      ]
    },
    {
      "cell_type": "code",
      "source": [
        "data2"
      ],
      "metadata": {
        "id": "Q4NX8BArd3Kl",
        "outputId": "2df0d030-ad07-4ff4-931b-951b0aaee85c",
        "colab": {
          "base_uri": "https://localhost:8080/",
          "height": 423
        }
      },
      "execution_count": null,
      "outputs": [
        {
          "output_type": "execute_result",
          "data": {
            "text/plain": [
              "    JenisKelamin  JumTanggungan    Pendidikan  IncomeNasabah  JumlahPinjaman  \\\n",
              "5           Male            2.0      Graduate           5417           267.0   \n",
              "7           Male            3.0      Graduate           3036           158.0   \n",
              "8           Male            2.0      Graduate           4006           168.0   \n",
              "10          Male            2.0      Graduate           3200            70.0   \n",
              "11          Male            2.0      Graduate           2500           109.0   \n",
              "..           ...            ...           ...            ...             ...   \n",
              "600       Female            3.0      Graduate            416           350.0   \n",
              "602         Male            3.0      Graduate           5703           128.0   \n",
              "607         Male            2.0  Not Graduate           3987           157.0   \n",
              "610         Male            3.0      Graduate           4106            40.0   \n",
              "612         Male            2.0      Graduate           7583           187.0   \n",
              "\n",
              "     Credit_History   StatusPinjaman  \n",
              "5           1.000000            True  \n",
              "7           0.000000           False  \n",
              "8           1.000000            True  \n",
              "10          1.000000            True  \n",
              "11          1.000000            True  \n",
              "..               ...             ...  \n",
              "600         0.842199           False  \n",
              "602         1.000000            True  \n",
              "607         1.000000            True  \n",
              "610         1.000000            True  \n",
              "612         1.000000            True  \n",
              "\n",
              "[152 rows x 7 columns]"
            ],
            "text/html": [
              "\n",
              "  <div id=\"df-d10ace03-d6bc-4ee3-b759-c6675469b106\">\n",
              "    <div class=\"colab-df-container\">\n",
              "      <div>\n",
              "<style scoped>\n",
              "    .dataframe tbody tr th:only-of-type {\n",
              "        vertical-align: middle;\n",
              "    }\n",
              "\n",
              "    .dataframe tbody tr th {\n",
              "        vertical-align: top;\n",
              "    }\n",
              "\n",
              "    .dataframe thead th {\n",
              "        text-align: right;\n",
              "    }\n",
              "</style>\n",
              "<table border=\"1\" class=\"dataframe\">\n",
              "  <thead>\n",
              "    <tr style=\"text-align: right;\">\n",
              "      <th></th>\n",
              "      <th>JenisKelamin</th>\n",
              "      <th>JumTanggungan</th>\n",
              "      <th>Pendidikan</th>\n",
              "      <th>IncomeNasabah</th>\n",
              "      <th>JumlahPinjaman</th>\n",
              "      <th>Credit_History</th>\n",
              "      <th>StatusPinjaman</th>\n",
              "    </tr>\n",
              "  </thead>\n",
              "  <tbody>\n",
              "    <tr>\n",
              "      <th>5</th>\n",
              "      <td>Male</td>\n",
              "      <td>2.0</td>\n",
              "      <td>Graduate</td>\n",
              "      <td>5417</td>\n",
              "      <td>267.0</td>\n",
              "      <td>1.000000</td>\n",
              "      <td>True</td>\n",
              "    </tr>\n",
              "    <tr>\n",
              "      <th>7</th>\n",
              "      <td>Male</td>\n",
              "      <td>3.0</td>\n",
              "      <td>Graduate</td>\n",
              "      <td>3036</td>\n",
              "      <td>158.0</td>\n",
              "      <td>0.000000</td>\n",
              "      <td>False</td>\n",
              "    </tr>\n",
              "    <tr>\n",
              "      <th>8</th>\n",
              "      <td>Male</td>\n",
              "      <td>2.0</td>\n",
              "      <td>Graduate</td>\n",
              "      <td>4006</td>\n",
              "      <td>168.0</td>\n",
              "      <td>1.000000</td>\n",
              "      <td>True</td>\n",
              "    </tr>\n",
              "    <tr>\n",
              "      <th>10</th>\n",
              "      <td>Male</td>\n",
              "      <td>2.0</td>\n",
              "      <td>Graduate</td>\n",
              "      <td>3200</td>\n",
              "      <td>70.0</td>\n",
              "      <td>1.000000</td>\n",
              "      <td>True</td>\n",
              "    </tr>\n",
              "    <tr>\n",
              "      <th>11</th>\n",
              "      <td>Male</td>\n",
              "      <td>2.0</td>\n",
              "      <td>Graduate</td>\n",
              "      <td>2500</td>\n",
              "      <td>109.0</td>\n",
              "      <td>1.000000</td>\n",
              "      <td>True</td>\n",
              "    </tr>\n",
              "    <tr>\n",
              "      <th>...</th>\n",
              "      <td>...</td>\n",
              "      <td>...</td>\n",
              "      <td>...</td>\n",
              "      <td>...</td>\n",
              "      <td>...</td>\n",
              "      <td>...</td>\n",
              "      <td>...</td>\n",
              "    </tr>\n",
              "    <tr>\n",
              "      <th>600</th>\n",
              "      <td>Female</td>\n",
              "      <td>3.0</td>\n",
              "      <td>Graduate</td>\n",
              "      <td>416</td>\n",
              "      <td>350.0</td>\n",
              "      <td>0.842199</td>\n",
              "      <td>False</td>\n",
              "    </tr>\n",
              "    <tr>\n",
              "      <th>602</th>\n",
              "      <td>Male</td>\n",
              "      <td>3.0</td>\n",
              "      <td>Graduate</td>\n",
              "      <td>5703</td>\n",
              "      <td>128.0</td>\n",
              "      <td>1.000000</td>\n",
              "      <td>True</td>\n",
              "    </tr>\n",
              "    <tr>\n",
              "      <th>607</th>\n",
              "      <td>Male</td>\n",
              "      <td>2.0</td>\n",
              "      <td>Not Graduate</td>\n",
              "      <td>3987</td>\n",
              "      <td>157.0</td>\n",
              "      <td>1.000000</td>\n",
              "      <td>True</td>\n",
              "    </tr>\n",
              "    <tr>\n",
              "      <th>610</th>\n",
              "      <td>Male</td>\n",
              "      <td>3.0</td>\n",
              "      <td>Graduate</td>\n",
              "      <td>4106</td>\n",
              "      <td>40.0</td>\n",
              "      <td>1.000000</td>\n",
              "      <td>True</td>\n",
              "    </tr>\n",
              "    <tr>\n",
              "      <th>612</th>\n",
              "      <td>Male</td>\n",
              "      <td>2.0</td>\n",
              "      <td>Graduate</td>\n",
              "      <td>7583</td>\n",
              "      <td>187.0</td>\n",
              "      <td>1.000000</td>\n",
              "      <td>True</td>\n",
              "    </tr>\n",
              "  </tbody>\n",
              "</table>\n",
              "<p>152 rows × 7 columns</p>\n",
              "</div>\n",
              "      <button class=\"colab-df-convert\" onclick=\"convertToInteractive('df-d10ace03-d6bc-4ee3-b759-c6675469b106')\"\n",
              "              title=\"Convert this dataframe to an interactive table.\"\n",
              "              style=\"display:none;\">\n",
              "        \n",
              "  <svg xmlns=\"http://www.w3.org/2000/svg\" height=\"24px\"viewBox=\"0 0 24 24\"\n",
              "       width=\"24px\">\n",
              "    <path d=\"M0 0h24v24H0V0z\" fill=\"none\"/>\n",
              "    <path d=\"M18.56 5.44l.94 2.06.94-2.06 2.06-.94-2.06-.94-.94-2.06-.94 2.06-2.06.94zm-11 1L8.5 8.5l.94-2.06 2.06-.94-2.06-.94L8.5 2.5l-.94 2.06-2.06.94zm10 10l.94 2.06.94-2.06 2.06-.94-2.06-.94-.94-2.06-.94 2.06-2.06.94z\"/><path d=\"M17.41 7.96l-1.37-1.37c-.4-.4-.92-.59-1.43-.59-.52 0-1.04.2-1.43.59L10.3 9.45l-7.72 7.72c-.78.78-.78 2.05 0 2.83L4 21.41c.39.39.9.59 1.41.59.51 0 1.02-.2 1.41-.59l7.78-7.78 2.81-2.81c.8-.78.8-2.07 0-2.86zM5.41 20L4 18.59l7.72-7.72 1.47 1.35L5.41 20z\"/>\n",
              "  </svg>\n",
              "      </button>\n",
              "      \n",
              "  <style>\n",
              "    .colab-df-container {\n",
              "      display:flex;\n",
              "      flex-wrap:wrap;\n",
              "      gap: 12px;\n",
              "    }\n",
              "\n",
              "    .colab-df-convert {\n",
              "      background-color: #E8F0FE;\n",
              "      border: none;\n",
              "      border-radius: 50%;\n",
              "      cursor: pointer;\n",
              "      display: none;\n",
              "      fill: #1967D2;\n",
              "      height: 32px;\n",
              "      padding: 0 0 0 0;\n",
              "      width: 32px;\n",
              "    }\n",
              "\n",
              "    .colab-df-convert:hover {\n",
              "      background-color: #E2EBFA;\n",
              "      box-shadow: 0px 1px 2px rgba(60, 64, 67, 0.3), 0px 1px 3px 1px rgba(60, 64, 67, 0.15);\n",
              "      fill: #174EA6;\n",
              "    }\n",
              "\n",
              "    [theme=dark] .colab-df-convert {\n",
              "      background-color: #3B4455;\n",
              "      fill: #D2E3FC;\n",
              "    }\n",
              "\n",
              "    [theme=dark] .colab-df-convert:hover {\n",
              "      background-color: #434B5C;\n",
              "      box-shadow: 0px 1px 3px 1px rgba(0, 0, 0, 0.15);\n",
              "      filter: drop-shadow(0px 1px 2px rgba(0, 0, 0, 0.3));\n",
              "      fill: #FFFFFF;\n",
              "    }\n",
              "  </style>\n",
              "\n",
              "      <script>\n",
              "        const buttonEl =\n",
              "          document.querySelector('#df-d10ace03-d6bc-4ee3-b759-c6675469b106 button.colab-df-convert');\n",
              "        buttonEl.style.display =\n",
              "          google.colab.kernel.accessAllowed ? 'block' : 'none';\n",
              "\n",
              "        async function convertToInteractive(key) {\n",
              "          const element = document.querySelector('#df-d10ace03-d6bc-4ee3-b759-c6675469b106');\n",
              "          const dataTable =\n",
              "            await google.colab.kernel.invokeFunction('convertToInteractive',\n",
              "                                                     [key], {});\n",
              "          if (!dataTable) return;\n",
              "\n",
              "          const docLinkHtml = 'Like what you see? Visit the ' +\n",
              "            '<a target=\"_blank\" href=https://colab.research.google.com/notebooks/data_table.ipynb>data table notebook</a>'\n",
              "            + ' to learn more about interactive tables.';\n",
              "          element.innerHTML = '';\n",
              "          dataTable['output_type'] = 'display_data';\n",
              "          await google.colab.output.renderOutput(dataTable, element);\n",
              "          const docLink = document.createElement('div');\n",
              "          docLink.innerHTML = docLinkHtml;\n",
              "          element.appendChild(docLink);\n",
              "        }\n",
              "      </script>\n",
              "    </div>\n",
              "  </div>\n",
              "  "
            ]
          },
          "metadata": {},
          "execution_count": 31
        }
      ]
    },
    {
      "cell_type": "code",
      "source": [
        "from sklearn.preprocessing import LabelEncoder\n",
        "# data = pd.get_dummies(data)\n",
        "le = LabelEncoder()\n",
        "data['JenisKelamin'] = le.fit_transform(data['JenisKelamin'])\n",
        "data['Pendidikan'] = le.fit_transform(data['Pendidikan'])\n",
        "# data1 = pd.get_dummies(data1)\n",
        "le2 = LabelEncoder()\n",
        "data2['JenisKelamin'] = le2.fit_transform(data2['JenisKelamin'])\n",
        "data2['Pendidikan'] = le2.fit_transform(data2['Pendidikan'])"
      ],
      "metadata": {
        "id": "AR_UH4ltegUM",
        "colab": {
          "base_uri": "https://localhost:8080/"
        },
        "outputId": "9e66a04c-d3d3-487c-ae3d-afb9b6d61248"
      },
      "execution_count": null,
      "outputs": [
        {
          "output_type": "stream",
          "name": "stderr",
          "text": [
            "<ipython-input-32-e2ef8eef088e>:8: SettingWithCopyWarning: \n",
            "A value is trying to be set on a copy of a slice from a DataFrame.\n",
            "Try using .loc[row_indexer,col_indexer] = value instead\n",
            "\n",
            "See the caveats in the documentation: https://pandas.pydata.org/pandas-docs/stable/user_guide/indexing.html#returning-a-view-versus-a-copy\n",
            "  data2['JenisKelamin'] = le2.fit_transform(data2['JenisKelamin'])\n",
            "<ipython-input-32-e2ef8eef088e>:9: SettingWithCopyWarning: \n",
            "A value is trying to be set on a copy of a slice from a DataFrame.\n",
            "Try using .loc[row_indexer,col_indexer] = value instead\n",
            "\n",
            "See the caveats in the documentation: https://pandas.pydata.org/pandas-docs/stable/user_guide/indexing.html#returning-a-view-versus-a-copy\n",
            "  data2['Pendidikan'] = le2.fit_transform(data2['Pendidikan'])\n"
          ]
        }
      ]
    },
    {
      "cell_type": "markdown",
      "source": [
        "## Split Data"
      ],
      "metadata": {
        "id": "1OiiLLf9CPil"
      }
    },
    {
      "cell_type": "code",
      "source": [
        "data"
      ],
      "metadata": {
        "colab": {
          "base_uri": "https://localhost:8080/",
          "height": 423
        },
        "id": "lOMFvfjelmor",
        "outputId": "849cd0ae-6a8e-44a1-f391-dd43b716cd05"
      },
      "execution_count": null,
      "outputs": [
        {
          "output_type": "execute_result",
          "data": {
            "text/plain": [
              "     JenisKelamin  JumTanggungan  Pendidikan  IncomeNasabah  JumlahPinjaman  \\\n",
              "0               1            0.0           0           5849      146.412162   \n",
              "1               1            1.0           0           4583      128.000000   \n",
              "2               1            0.0           0           3000       66.000000   \n",
              "3               1            0.0           1           2583      120.000000   \n",
              "4               1            0.0           0           6000      141.000000   \n",
              "..            ...            ...         ...            ...             ...   \n",
              "609             0            0.0           0           2900       71.000000   \n",
              "610             1            3.0           0           4106       40.000000   \n",
              "611             1            1.0           0           8072      253.000000   \n",
              "612             1            2.0           0           7583      187.000000   \n",
              "613             0            0.0           0           4583      133.000000   \n",
              "\n",
              "     Credit_History   StatusPinjaman  \n",
              "0                1.0            True  \n",
              "1                1.0           False  \n",
              "2                1.0            True  \n",
              "3                1.0            True  \n",
              "4                1.0            True  \n",
              "..               ...             ...  \n",
              "609              1.0            True  \n",
              "610              1.0            True  \n",
              "611              1.0            True  \n",
              "612              1.0            True  \n",
              "613              0.0           False  \n",
              "\n",
              "[614 rows x 7 columns]"
            ],
            "text/html": [
              "\n",
              "  <div id=\"df-6619f71c-8a65-442d-8239-6a3bc5698c73\">\n",
              "    <div class=\"colab-df-container\">\n",
              "      <div>\n",
              "<style scoped>\n",
              "    .dataframe tbody tr th:only-of-type {\n",
              "        vertical-align: middle;\n",
              "    }\n",
              "\n",
              "    .dataframe tbody tr th {\n",
              "        vertical-align: top;\n",
              "    }\n",
              "\n",
              "    .dataframe thead th {\n",
              "        text-align: right;\n",
              "    }\n",
              "</style>\n",
              "<table border=\"1\" class=\"dataframe\">\n",
              "  <thead>\n",
              "    <tr style=\"text-align: right;\">\n",
              "      <th></th>\n",
              "      <th>JenisKelamin</th>\n",
              "      <th>JumTanggungan</th>\n",
              "      <th>Pendidikan</th>\n",
              "      <th>IncomeNasabah</th>\n",
              "      <th>JumlahPinjaman</th>\n",
              "      <th>Credit_History</th>\n",
              "      <th>StatusPinjaman</th>\n",
              "    </tr>\n",
              "  </thead>\n",
              "  <tbody>\n",
              "    <tr>\n",
              "      <th>0</th>\n",
              "      <td>1</td>\n",
              "      <td>0.0</td>\n",
              "      <td>0</td>\n",
              "      <td>5849</td>\n",
              "      <td>146.412162</td>\n",
              "      <td>1.0</td>\n",
              "      <td>True</td>\n",
              "    </tr>\n",
              "    <tr>\n",
              "      <th>1</th>\n",
              "      <td>1</td>\n",
              "      <td>1.0</td>\n",
              "      <td>0</td>\n",
              "      <td>4583</td>\n",
              "      <td>128.000000</td>\n",
              "      <td>1.0</td>\n",
              "      <td>False</td>\n",
              "    </tr>\n",
              "    <tr>\n",
              "      <th>2</th>\n",
              "      <td>1</td>\n",
              "      <td>0.0</td>\n",
              "      <td>0</td>\n",
              "      <td>3000</td>\n",
              "      <td>66.000000</td>\n",
              "      <td>1.0</td>\n",
              "      <td>True</td>\n",
              "    </tr>\n",
              "    <tr>\n",
              "      <th>3</th>\n",
              "      <td>1</td>\n",
              "      <td>0.0</td>\n",
              "      <td>1</td>\n",
              "      <td>2583</td>\n",
              "      <td>120.000000</td>\n",
              "      <td>1.0</td>\n",
              "      <td>True</td>\n",
              "    </tr>\n",
              "    <tr>\n",
              "      <th>4</th>\n",
              "      <td>1</td>\n",
              "      <td>0.0</td>\n",
              "      <td>0</td>\n",
              "      <td>6000</td>\n",
              "      <td>141.000000</td>\n",
              "      <td>1.0</td>\n",
              "      <td>True</td>\n",
              "    </tr>\n",
              "    <tr>\n",
              "      <th>...</th>\n",
              "      <td>...</td>\n",
              "      <td>...</td>\n",
              "      <td>...</td>\n",
              "      <td>...</td>\n",
              "      <td>...</td>\n",
              "      <td>...</td>\n",
              "      <td>...</td>\n",
              "    </tr>\n",
              "    <tr>\n",
              "      <th>609</th>\n",
              "      <td>0</td>\n",
              "      <td>0.0</td>\n",
              "      <td>0</td>\n",
              "      <td>2900</td>\n",
              "      <td>71.000000</td>\n",
              "      <td>1.0</td>\n",
              "      <td>True</td>\n",
              "    </tr>\n",
              "    <tr>\n",
              "      <th>610</th>\n",
              "      <td>1</td>\n",
              "      <td>3.0</td>\n",
              "      <td>0</td>\n",
              "      <td>4106</td>\n",
              "      <td>40.000000</td>\n",
              "      <td>1.0</td>\n",
              "      <td>True</td>\n",
              "    </tr>\n",
              "    <tr>\n",
              "      <th>611</th>\n",
              "      <td>1</td>\n",
              "      <td>1.0</td>\n",
              "      <td>0</td>\n",
              "      <td>8072</td>\n",
              "      <td>253.000000</td>\n",
              "      <td>1.0</td>\n",
              "      <td>True</td>\n",
              "    </tr>\n",
              "    <tr>\n",
              "      <th>612</th>\n",
              "      <td>1</td>\n",
              "      <td>2.0</td>\n",
              "      <td>0</td>\n",
              "      <td>7583</td>\n",
              "      <td>187.000000</td>\n",
              "      <td>1.0</td>\n",
              "      <td>True</td>\n",
              "    </tr>\n",
              "    <tr>\n",
              "      <th>613</th>\n",
              "      <td>0</td>\n",
              "      <td>0.0</td>\n",
              "      <td>0</td>\n",
              "      <td>4583</td>\n",
              "      <td>133.000000</td>\n",
              "      <td>0.0</td>\n",
              "      <td>False</td>\n",
              "    </tr>\n",
              "  </tbody>\n",
              "</table>\n",
              "<p>614 rows × 7 columns</p>\n",
              "</div>\n",
              "      <button class=\"colab-df-convert\" onclick=\"convertToInteractive('df-6619f71c-8a65-442d-8239-6a3bc5698c73')\"\n",
              "              title=\"Convert this dataframe to an interactive table.\"\n",
              "              style=\"display:none;\">\n",
              "        \n",
              "  <svg xmlns=\"http://www.w3.org/2000/svg\" height=\"24px\"viewBox=\"0 0 24 24\"\n",
              "       width=\"24px\">\n",
              "    <path d=\"M0 0h24v24H0V0z\" fill=\"none\"/>\n",
              "    <path d=\"M18.56 5.44l.94 2.06.94-2.06 2.06-.94-2.06-.94-.94-2.06-.94 2.06-2.06.94zm-11 1L8.5 8.5l.94-2.06 2.06-.94-2.06-.94L8.5 2.5l-.94 2.06-2.06.94zm10 10l.94 2.06.94-2.06 2.06-.94-2.06-.94-.94-2.06-.94 2.06-2.06.94z\"/><path d=\"M17.41 7.96l-1.37-1.37c-.4-.4-.92-.59-1.43-.59-.52 0-1.04.2-1.43.59L10.3 9.45l-7.72 7.72c-.78.78-.78 2.05 0 2.83L4 21.41c.39.39.9.59 1.41.59.51 0 1.02-.2 1.41-.59l7.78-7.78 2.81-2.81c.8-.78.8-2.07 0-2.86zM5.41 20L4 18.59l7.72-7.72 1.47 1.35L5.41 20z\"/>\n",
              "  </svg>\n",
              "      </button>\n",
              "      \n",
              "  <style>\n",
              "    .colab-df-container {\n",
              "      display:flex;\n",
              "      flex-wrap:wrap;\n",
              "      gap: 12px;\n",
              "    }\n",
              "\n",
              "    .colab-df-convert {\n",
              "      background-color: #E8F0FE;\n",
              "      border: none;\n",
              "      border-radius: 50%;\n",
              "      cursor: pointer;\n",
              "      display: none;\n",
              "      fill: #1967D2;\n",
              "      height: 32px;\n",
              "      padding: 0 0 0 0;\n",
              "      width: 32px;\n",
              "    }\n",
              "\n",
              "    .colab-df-convert:hover {\n",
              "      background-color: #E2EBFA;\n",
              "      box-shadow: 0px 1px 2px rgba(60, 64, 67, 0.3), 0px 1px 3px 1px rgba(60, 64, 67, 0.15);\n",
              "      fill: #174EA6;\n",
              "    }\n",
              "\n",
              "    [theme=dark] .colab-df-convert {\n",
              "      background-color: #3B4455;\n",
              "      fill: #D2E3FC;\n",
              "    }\n",
              "\n",
              "    [theme=dark] .colab-df-convert:hover {\n",
              "      background-color: #434B5C;\n",
              "      box-shadow: 0px 1px 3px 1px rgba(0, 0, 0, 0.15);\n",
              "      filter: drop-shadow(0px 1px 2px rgba(0, 0, 0, 0.3));\n",
              "      fill: #FFFFFF;\n",
              "    }\n",
              "  </style>\n",
              "\n",
              "      <script>\n",
              "        const buttonEl =\n",
              "          document.querySelector('#df-6619f71c-8a65-442d-8239-6a3bc5698c73 button.colab-df-convert');\n",
              "        buttonEl.style.display =\n",
              "          google.colab.kernel.accessAllowed ? 'block' : 'none';\n",
              "\n",
              "        async function convertToInteractive(key) {\n",
              "          const element = document.querySelector('#df-6619f71c-8a65-442d-8239-6a3bc5698c73');\n",
              "          const dataTable =\n",
              "            await google.colab.kernel.invokeFunction('convertToInteractive',\n",
              "                                                     [key], {});\n",
              "          if (!dataTable) return;\n",
              "\n",
              "          const docLinkHtml = 'Like what you see? Visit the ' +\n",
              "            '<a target=\"_blank\" href=https://colab.research.google.com/notebooks/data_table.ipynb>data table notebook</a>'\n",
              "            + ' to learn more about interactive tables.';\n",
              "          element.innerHTML = '';\n",
              "          dataTable['output_type'] = 'display_data';\n",
              "          await google.colab.output.renderOutput(dataTable, element);\n",
              "          const docLink = document.createElement('div');\n",
              "          docLink.innerHTML = docLinkHtml;\n",
              "          element.appendChild(docLink);\n",
              "        }\n",
              "      </script>\n",
              "    </div>\n",
              "  </div>\n",
              "  "
            ]
          },
          "metadata": {},
          "execution_count": 33
        }
      ]
    },
    {
      "cell_type": "code",
      "source": [
        "import numpy as np\n",
        "\n",
        "# membagi dataset menjadi subset pelatihan dan subset pengujian dengan perbandingan 80:20\n",
        "\n",
        "train_data, test_data = np.split(data.sample(frac=1), [int(0.8*len(data))])\n",
        "train_target, test_target = train_data.pop('StatusPinjaman'), test_data.pop('StatusPinjaman')\n",
        "\n",
        "# Menampilkan jumlah data pada subset pelatihan dan pengujian\n",
        "print(\"Jumlah data pada subset pelatihan:\", train_data.shape[0])\n",
        "print(\"Jumlah data pada subset pengujian:\", test_data.shape[0])\n"
      ],
      "metadata": {
        "id": "u1YKvU7ACRTK",
        "outputId": "37eb41fa-0745-4e87-9f15-d9c2b4ec5056",
        "colab": {
          "base_uri": "https://localhost:8080/"
        }
      },
      "execution_count": null,
      "outputs": [
        {
          "output_type": "stream",
          "name": "stdout",
          "text": [
            "Jumlah data pada subset pelatihan: 491\n",
            "Jumlah data pada subset pengujian: 123\n"
          ]
        }
      ]
    },
    {
      "cell_type": "markdown",
      "source": [
        "## Pre Processing"
      ],
      "metadata": {
        "id": "b-EAysFvjzxl"
      }
    },
    {
      "cell_type": "code",
      "source": [
        "from sklearn.preprocessing import StandardScaler\n",
        "# Lakukan scaling pada data train\n",
        "scaler = StandardScaler()\n",
        "train_data_scalled = scaler.fit_transform(train_data)\n",
        "\n",
        "# Gunakan objek scaler yang sama untuk melakukan scaling pada data test\n",
        "test_data_scalled = scaler.transform(test_data)"
      ],
      "metadata": {
        "id": "Kux93S-WjzBU"
      },
      "execution_count": null,
      "outputs": []
    },
    {
      "cell_type": "markdown",
      "source": [
        "## Modelling"
      ],
      "metadata": {
        "id": "DmUxwX7HiHD_"
      }
    },
    {
      "cell_type": "markdown",
      "source": [
        "### Cross Validation"
      ],
      "metadata": {
        "id": "Lc2ilXWapG1Z"
      }
    },
    {
      "cell_type": "code",
      "source": [
        "from sklearn.model_selection import cross_val_score\n",
        "from sklearn.naive_bayes import GaussianNB\n",
        "\n",
        "# Inisialisasi model Naive Bayes Gaussian\n",
        "model = GaussianNB()\n",
        "\n",
        "# Lakukan validasi silang dengan 5-fold pada seluruh data\n",
        "scores = cross_val_score(model, train_data_scalled, train_target, cv=5)\n",
        "\n",
        "# Hitung rata-rata akurasi dan standar deviasi dari validasi silang\n",
        "mean_score = scores.mean()\n",
        "std_score = scores.std()"
      ],
      "metadata": {
        "id": "o1aNm0LhpGXa"
      },
      "execution_count": null,
      "outputs": []
    },
    {
      "cell_type": "markdown",
      "source": [
        "### Naive Bayes"
      ],
      "metadata": {
        "id": "BUiGXYw8iMuJ"
      }
    },
    {
      "cell_type": "code",
      "source": [
        "from sklearn.metrics import accuracy_score,precision_score,f1_score, recall_score,roc_auc_score,confusion_matrix,ConfusionMatrixDisplay\n",
        "\n",
        "# Latih model menggunakan subset pelatihan\n",
        "model.fit(train_data_scalled, train_target)\n",
        "\n",
        "# Prediksi target pada subset pengujian\n",
        "test_pred = model.predict(test_data_scalled)\n",
        "\n",
        "# Hitung akurasi pada data test\n",
        "test_accuracy = np.mean(test_pred == test_target)\n",
        "precision = precision_score(test_target, test_pred)\n",
        "recall = recall_score(test_target, test_pred)\n",
        "f1 = f1_score(test_target, test_pred)\n",
        "cm = confusion_matrix(test_target, test_pred)\n",
        "# Tampilkan hasil evaluasi\n",
        "Naive_Bayes = {\n",
        "    \"CV Accuracy\": round(mean_score, 2),\n",
        "    \"Accuracy Model\": round(test_accuracy, 2),\n",
        "    \"Precision\": round(precision, 2),\n",
        "    \"Recall\": round(recall, 2),\n",
        "    \"F1-Score\": round(f1, 2),\n",
        "    \"Confusion Matrix\": cm.tolist()\n",
        "}"
      ],
      "metadata": {
        "id": "7H84OgceiWY4"
      },
      "execution_count": null,
      "outputs": []
    },
    {
      "cell_type": "markdown",
      "source": [
        "### Cross Validation"
      ],
      "metadata": {
        "id": "28fjnXxny_SX"
      }
    },
    {
      "cell_type": "code",
      "source": [
        "import numpy as np\n",
        "from sklearn.model_selection import cross_val_score, GridSearchCV, KFold\n",
        "from sklearn.neighbors import KNeighborsClassifier\n",
        "\n",
        "# Membuat objek KFold untuk outer loop\n",
        "outer_cv = KFold(n_splits=5, shuffle=True)\n",
        "\n",
        "# Membuat objek KFold untuk inner loop\n",
        "inner_cv = KFold(n_splits=5, shuffle=True)\n",
        "\n",
        "# Mencari nilai hyperparameter K yang terbaik dengan GridSearchCV pada inner loop\n",
        "parameters = {'n_neighbors': np.arange(1, 10)}\n",
        "knn = KNeighborsClassifier()\n",
        "clf = GridSearchCV(knn, parameters, cv=inner_cv)\n",
        "clf.fit(train_data, train_target)\n",
        "\n",
        "# Menampilkan nilai hyperparameter K terbaik dari GridSearchCV\n",
        "print(\"Best K: \", clf.best_params_['n_neighbors'])\n",
        "best_k= clf.best_params_['n_neighbors']\n",
        "\n",
        "# Menggunakan best_k untuk membangun model pada outer loop\n",
        "knn_best = KNeighborsClassifier(n_neighbors=clf.best_params_['n_neighbors'])\n",
        "scores = cross_val_score(knn_best, train_data_scalled, train_target, cv=outer_cv)\n"
      ],
      "metadata": {
        "id": "Nq5aP3pkiWu5",
        "colab": {
          "base_uri": "https://localhost:8080/"
        },
        "outputId": "ddeb2ed9-5f39-421f-bf2f-2a93fe5623ad"
      },
      "execution_count": null,
      "outputs": [
        {
          "output_type": "stream",
          "name": "stdout",
          "text": [
            "Best K:  7\n"
          ]
        }
      ]
    },
    {
      "cell_type": "markdown",
      "source": [
        "### KNN"
      ],
      "metadata": {
        "id": "tZo2Q08eiQPE"
      }
    },
    {
      "cell_type": "code",
      "source": [
        "from sklearn.neighbors import KNeighborsClassifier\n",
        "from sklearn.metrics import accuracy_score, precision_score, recall_score, f1_score, confusion_matrix  \n",
        "\n",
        "knn = KNeighborsClassifier(n_neighbors=best_k)\n",
        "\n",
        "knn.fit(train_data_scalled, train_target)\n",
        "\n",
        "predicted = knn.predict(test_data_scalled)\n",
        "\n",
        "# accuracy = accuracy_score(test_target, predicted)\n",
        "\n",
        "print(\"Accuracy: %0.2f (+/- %0.2f)\" % (scores.mean(), scores.std() * 2))\n",
        "\n",
        "# Menentukan threshold baru\n",
        "new_threshold = 0.5\n",
        "\n",
        "# Melakukan prediksi dengan probabilitas\n",
        "predicted_prob = knn.predict_proba(test_data_scalled)[:, 1]\n",
        "\n",
        "# Mengubah label prediksi dengan threshold baru\n",
        "predicted = (predicted_prob > new_threshold).astype(int)\n",
        "\n",
        "# Menghitung metrik evaluasi\n",
        "accuracyKNN = accuracy_score(test_target, predicted)\n",
        "precisionKNN = precision_score(test_target, predicted)\n",
        "recallKNN = recall_score(test_target, predicted)\n",
        "f1KNN = f1_score(test_target, predicted)\n",
        "\n",
        "# hitung confusion matrix pada data test\n",
        "knn = confusion_matrix(test_target, predicted)\n",
        "\n",
        "# Menampilkan metrik evaluasi\n",
        "data_KNN={\n",
        "    \"CV Accuracy\":\"%0.2f (+/- %0.2f)\" % (scores.mean(), scores.std() * 2),\n",
        "    \"Akurasi model\" : accuracyKNN,\n",
        "    \"Presisi model\": precisionKNN,\n",
        "    \"Recall model\":recallKNN,\n",
        "    \"F1-score model\":f1KNN,\n",
        "    \"Confusion Matrix\": knn.tolist()\n",
        "}"
      ],
      "metadata": {
        "colab": {
          "base_uri": "https://localhost:8080/"
        },
        "id": "wU9y9Xj2zCMA",
        "outputId": "21cc5219-ef44-486b-8f80-4f0086c5bc8f"
      },
      "execution_count": null,
      "outputs": [
        {
          "output_type": "stream",
          "name": "stdout",
          "text": [
            "Accuracy: 0.81 (+/- 0.04)\n"
          ]
        }
      ]
    },
    {
      "cell_type": "code",
      "source": [
        "from sklearn.preprocessing import MinMaxScaler\n",
        "# JenisKelamin\tJumTanggungan\tPendidikan\tIncomeNasabah\tJumlahPinjaman\tCredit_History\tStatusPinjaman\n",
        "# pilih kolom yang akan dilakukan scaling\n",
        "cols_to_scale = ['JenisKelamin','JumTanggungan', 'Pendidikan','IncomeNasabah', 'JumlahPinjaman']\n",
        "\n",
        "# lakukan Min-Max Scaling pada kolom yang dipilih\n",
        "scaler = MinMaxScaler()\n",
        "data[cols_to_scale] = scaler.fit_transform(data[cols_to_scale])\n",
        "\n",
        "# tampilkan data setelah scaling\n",
        "print(data.head())"
      ],
      "metadata": {
        "colab": {
          "base_uri": "https://localhost:8080/"
        },
        "id": "tBOwRzXHkdb1",
        "outputId": "53a9775f-e812-4fec-865b-ad06a2f498f6"
      },
      "execution_count": null,
      "outputs": [
        {
          "output_type": "stream",
          "name": "stdout",
          "text": [
            "   JenisKelamin  JumTanggungan  Pendidikan  IncomeNasabah  JumlahPinjaman  \\\n",
            "0           1.0       0.000000         0.0       0.070489        0.198860   \n",
            "1           1.0       0.333333         0.0       0.054830        0.172214   \n",
            "2           1.0       0.000000         0.0       0.035250        0.082489   \n",
            "3           1.0       0.000000         1.0       0.030093        0.160637   \n",
            "4           1.0       0.000000         0.0       0.072356        0.191027   \n",
            "\n",
            "   Credit_History   StatusPinjaman  \n",
            "0              1.0            True  \n",
            "1              1.0           False  \n",
            "2              1.0            True  \n",
            "3              1.0            True  \n",
            "4              1.0            True  \n"
          ]
        }
      ]
    },
    {
      "cell_type": "markdown",
      "source": [
        "### Cross Validation"
      ],
      "metadata": {
        "id": "uvrnd6vow8-0"
      }
    },
    {
      "cell_type": "code",
      "source": [
        "from sklearn.tree import DecisionTreeClassifier\n",
        "from sklearn.model_selection import cross_val_score\n",
        "\n",
        "# Inisialisasi model C4.5\n",
        "c45 = DecisionTreeClassifier(criterion='entropy')\n",
        "\n",
        "# Lakukan validasi silang dengan 10-fold\n",
        "scores = cross_val_score(c45, data2.drop('StatusPinjaman', axis=1), data2['StatusPinjaman'], cv=10)"
      ],
      "metadata": {
        "id": "YnLG6wnh0yNp"
      },
      "execution_count": null,
      "outputs": []
    },
    {
      "cell_type": "markdown",
      "source": [
        "### C4.5"
      ],
      "metadata": {
        "id": "PKV6pBnTiS5g"
      }
    },
    {
      "cell_type": "code",
      "source": [
        "def entropy(target_col):\n",
        "    elements, counts = np.unique(target_col, return_counts=True)\n",
        "    entropy = np.sum([(-counts[i]/np.sum(counts)) * np.log2(counts[i]/np.sum(counts)) for i in range(len(elements))])\n",
        "    return entropy\n",
        "\n",
        "entropy_train = entropy(train_target.values)"
      ],
      "metadata": {
        "id": "BnQ4vMcBiLZj"
      },
      "execution_count": null,
      "outputs": []
    },
    {
      "cell_type": "code",
      "source": [
        "def gain_ratio(data, target, feature):\n",
        "    # Hitung entropi total dari target\n",
        "    total_entropy = entropy(target)\n",
        "    \n",
        "    # Hitung entropi untuk setiap nilai unik dari fitur\n",
        "    vals, counts = np.unique(data[feature], return_counts=True)\n",
        "    weighted_entropy = np.sum([(counts[i]/np.sum(counts)) * entropy(target[data[feature] == vals[i]].values) for i in range(len(vals))])\n",
        "    \n",
        "    # Hitung gain ratio\n",
        "    info_gain = total_entropy - weighted_entropy\n",
        "    intrinsic_value = np.sum([(counts[i]/np.sum(counts)) * np.log2(counts[i]/np.sum(counts)) for i in range(len(vals))])\n",
        "    if intrinsic_value == 0:\n",
        "        gain_ratio = 0\n",
        "    else:\n",
        "        gain_ratio = info_gain / intrinsic_value\n",
        "    return gain_ratio\n",
        "\n",
        "# Membuat dictionary untuk menyimpan gain ratio untuk setiap fitur\n",
        "gain_ratios = {}\n",
        "for feature in train_data.columns:\n",
        "    gain_ratios[feature] = gain_ratio(train_data, train_target, feature)"
      ],
      "metadata": {
        "id": "MaBEPMik7N08"
      },
      "execution_count": null,
      "outputs": []
    },
    {
      "cell_type": "code",
      "source": [
        "root_node = max(gain_ratios, key=gain_ratios.get)"
      ],
      "metadata": {
        "id": "jwt6isx57QTx"
      },
      "execution_count": null,
      "outputs": []
    },
    {
      "cell_type": "code",
      "source": [
        "def get_subtable(data, target, node, value):\n",
        "    return data[target == value].reset_index(drop=True), target[target == value].reset_index(drop=True)\n",
        "\n",
        "child_nodes = {}\n",
        "vals = np.unique(train_data[root_node])\n",
        "for val in vals:\n",
        "    child_nodes[(root_node, val)] = get_subtable(train_data, train_target, root_node, val)"
      ],
      "metadata": {
        "id": "irfcVZWT7SzU"
      },
      "execution_count": null,
      "outputs": []
    },
    {
      "cell_type": "code",
      "source": [
        "class DecisionTree:\n",
        "    def __init__(self):\n",
        "        self.tree = {}\n",
        "\n",
        "    def fit(self, data, target):\n",
        "        self.tree = self.__build_tree(data, target)\n",
        "        return self\n",
        "\n",
        "    def __build_tree(self, data, target):\n",
        "        # Basis: jika semua target adalah nilai yang sama, maka kembalikan node daun dengan nilai tersebut\n",
        "        if len(np.unique(target)) <= 1:\n",
        "            return np.unique(target)[0]\n",
        "\n",
        "        # Basis: jika tidak ada fitur tersisa untuk dipilih, maka kembalikan node daun dengan kelas mayoritas dari target\n",
        "        elif len(data.columns) == 0:\n",
        "            return np.unique(target)[np.argmax(np.unique(target, return_counts=True)[1])]\n",
        "\n",
        "        # Rekursi\n",
        "        else:\n",
        "            # Pilih fitur dengan gain rasio tertinggi\n",
        "            gain_ratios = {}\n",
        "            for feature in data.columns:\n",
        "                gain_ratios[feature] = gain_ratio(data, target, feature)\n",
        "            best_feature = max(gain_ratios, key=gain_ratios.get)\n",
        "\n",
        "            # Buat node dengan fitur terpilih sebagai root node\n",
        "            tree = {best_feature: {}}\n",
        "\n",
        "            # Buat node anak untuk setiap nilai unik dari fitur terpilih\n",
        "            for value in np.unique(data[best_feature]):\n",
        "                subtable, subtarget = get_subtable(data, target, best_feature, value)\n",
        "                subtree = self.__build_tree(subtable, subtarget)\n",
        "                tree[best_feature][value] = subtree\n",
        "\n",
        "            return tree\n",
        "\n",
        "    def predict(self, data):\n",
        "        def classify(tree, sample):\n",
        "            for node in tree.keys():\n",
        "                value = sample[node]\n",
        "                if value not in tree[node]:\n",
        "                    return 'Tidak Dapat Diprediksi'\n",
        "                tree = tree[node][value]\n",
        "                prediction = 0\n",
        "                if type(tree) is dict:\n",
        "                    prediction = classify(tree, sample)\n",
        "                else:\n",
        "                    prediction = tree\n",
        "                    break\n",
        "            return prediction\n",
        "\n",
        "        predictions = []\n",
        "        for index, row in data.iterrows():\n",
        "            predictions.append(classify(self.tree, row))\n",
        "        return predictions\n",
        "\n",
        "    def print_tree(self, tree=None, level=0):\n",
        "        if not tree:\n",
        "            tree = self.tree\n",
        "        for feature in tree.keys():\n",
        "            print('    ' * level + str(feature))\n",
        "            if type(tree[feature]) is dict:\n",
        "                self.print_tree(tree[feature], level + 1)\n",
        "            else:\n",
        "                print('    ' * (level + 1) + '-> ' + str(tree[feature]))"
      ],
      "metadata": {
        "id": "JwbZwEqGcw6a"
      },
      "execution_count": null,
      "outputs": []
    },
    {
      "cell_type": "code",
      "source": [
        "# import library pandas\n",
        "import pandas as pd\n",
        "\n",
        "# Membuat objek DecisionTree\n",
        "tree = DecisionTree()\n",
        "\n",
        "# Melatih model dengan data latih\n",
        "tree.fit(train_data, train_target)\n",
        "\n",
        "# Mengklasifikasi data pengujian\n",
        "predictions = tree.predict(test_data)\n",
        "\n",
        "c45 = confusion_matrix(test_target, predictions)\n",
        "# Menghitung akurasi\n",
        "num_correct = 0\n",
        "for i in range(len(predictions)):\n",
        "    if predictions[i] == test_target.iloc[i]:\n",
        "        num_correct += 1\n",
        "accuracyC4 = num_correct / len(predictions)\n",
        "\n",
        "# Menghitung presisi\n",
        "tp = 0\n",
        "fp = 0\n",
        "for i in range(len(predictions)):\n",
        "    if predictions[i] == 1 and test_target.iloc[i] == 1:\n",
        "        tp += 1\n",
        "    elif predictions[i] == 1 and test_target.iloc[i] == 0:\n",
        "        fp += 1\n",
        "precision = tp / (tp + fp)\n",
        "\n",
        "# Menghitung recall\n",
        "tn = 0\n",
        "fn = 0\n",
        "for i in range(len(predictions)):\n",
        "    if predictions[i] == 0 and test_target.iloc[i] == 0:\n",
        "        tn += 1\n",
        "    elif predictions[i] == 0 and test_target.iloc[i] == 1:\n",
        "        fn += 1\n",
        "recall = tp / (tp + fn)\n",
        "\n",
        "# Menghitung f1-score\n",
        "f1 = 2 * (precision * recall) / (precision + recall)\n",
        "\n",
        "# Menampilkan hasil evaluasi\n",
        "C45={\n",
        "    \"Akurasi model\":accuracyC4,\n",
        "     \"Presisi model\":precision,\n",
        "     \"Recall model\":recall,\n",
        "     \"F1-score model\":f1,\n",
        "     \"Conf-Metriks\":c45\n",
        "}"
      ],
      "metadata": {
        "id": "XBi1txZVcINV"
      },
      "execution_count": null,
      "outputs": []
    },
    {
      "cell_type": "code",
      "source": [
        "gain_ratios"
      ],
      "metadata": {
        "colab": {
          "base_uri": "https://localhost:8080/"
        },
        "id": "lpoOiWyvsWF1",
        "outputId": "d9a72e8b-a514-4c5f-a699-f8877b56f255"
      },
      "execution_count": null,
      "outputs": [
        {
          "output_type": "execute_result",
          "data": {
            "text/plain": [
              "{'JenisKelamin': -0.0005133813783866397,\n",
              " 'JumTanggungan': -0.001289097356009878,\n",
              " 'Pendidikan': -0.009042640306667954,\n",
              " 'IncomeNasabah': -0.08894112814062748,\n",
              " 'JumlahPinjaman': -0.046227591326441664,\n",
              " 'Credit_History ': -0.20984763312463608}"
            ]
          },
          "metadata": {},
          "execution_count": 48
        }
      ]
    },
    {
      "cell_type": "markdown",
      "source": [
        "## Evaluasi"
      ],
      "metadata": {
        "id": "kSPsyhtXxJnW"
      }
    },
    {
      "cell_type": "code",
      "source": [
        "print(\"Hasil setiap Algoritma\")\n",
        "print(\"\\n\")\n",
        "print(\"Naive Bayes\")\n",
        "for i in Naive_Bayes:\n",
        "  for x in range(len(Naive_Bayes)):\n",
        "    print(i,\":\",Naive_Bayes[i])\n",
        "    break\n",
        "\n",
        "print(\"\\n\")\n",
        "print(\"KNN\")\n",
        "for i in data_KNN:\n",
        "  for x in range(len(data_KNN)):\n",
        "    print(i,\":\",data_KNN[i])\n",
        "    break\n",
        "print(\"\\n\")\n",
        "print(\"C4.5\")\n",
        "for i in C45:\n",
        "  for x in range(len(C45)):\n",
        "    print(i,\":\",C45[i])\n",
        "    break"
      ],
      "metadata": {
        "colab": {
          "base_uri": "https://localhost:8080/"
        },
        "id": "tssz8m5ttKUG",
        "outputId": "d98a4ad5-049e-4298-f001-dd9cb846c449"
      },
      "execution_count": null,
      "outputs": [
        {
          "output_type": "stream",
          "name": "stdout",
          "text": [
            "Hasil setiap Algoritma\n",
            "\n",
            "\n",
            "Naive Bayes\n",
            "CV Accuracy : 0.8\n",
            "Accuracy Model : 0.8\n",
            "Precision : 0.79\n",
            "Recall : 0.99\n",
            "F1-Score : 0.88\n",
            "Confusion Matrix : [[14, 23], [1, 85]]\n",
            "\n",
            "\n",
            "KNN\n",
            "CV Accuracy : 0.81 (+/- 0.04)\n",
            "Akurasi model : 0.7886178861788617\n",
            "Presisi model : 0.7941176470588235\n",
            "Recall model : 0.9418604651162791\n",
            "F1-score model : 0.8617021276595744\n",
            "Confusion Matrix : [[16, 21], [5, 81]]\n",
            "\n",
            "\n",
            "C4.5\n",
            "Akurasi model : 0.6585365853658537\n",
            "Presisi model : 0.6964285714285714\n",
            "Recall model : 0.9069767441860465\n",
            "F1-score model : 0.7878787878787877\n",
            "Conf-Metriks : [[ 3 34]\n",
            " [ 8 78]]\n"
          ]
        }
      ]
    },
    {
      "cell_type": "code",
      "source": [
        "from sklearn.metrics import confusion_matrix\n",
        "# Mengevaluasi performa model pada data latih\n",
        "train_score = model.score(train_data_scalled, train_target)\n",
        "print(\"Train score: {:.2f}%\".format(train_score * 100))\n",
        "\n",
        "# Mengevaluasi performa model pada data uji\n",
        "test_score = model.score(test_data_scalled, test_target)\n",
        "print(\"Test score: {:.2f}%\".format(test_score * 100))"
      ],
      "metadata": {
        "colab": {
          "base_uri": "https://localhost:8080/"
        },
        "id": "sFeKMMnPxMT2",
        "outputId": "42308285-b6f5-421c-9db3-8b19c1705446"
      },
      "execution_count": null,
      "outputs": [
        {
          "output_type": "stream",
          "name": "stdout",
          "text": [
            "Train score: 80.45%\n",
            "Test score: 80.49%\n"
          ]
        }
      ]
    },
    {
      "cell_type": "code",
      "source": [
        "model_metrik = confusion_matrix(test_target, test_pred)\n",
        "model_visual = ConfusionMatrixDisplay(model_metrik, display_labels=['True', 'False'])"
      ],
      "metadata": {
        "id": "ktecqgZtsqkj"
      },
      "execution_count": null,
      "outputs": []
    },
    {
      "cell_type": "code",
      "source": [
        "print(\"Naive Bayes:\\n\",model_visual.plot())"
      ],
      "metadata": {
        "colab": {
          "base_uri": "https://localhost:8080/",
          "height": 486
        },
        "id": "a_QQkwEvsWGY",
        "outputId": "5ae7038f-2bb9-4c46-909f-f63ed8a2b7ce"
      },
      "execution_count": null,
      "outputs": [
        {
          "output_type": "stream",
          "name": "stdout",
          "text": [
            "Naive Bayes:\n",
            " <sklearn.metrics._plot.confusion_matrix.ConfusionMatrixDisplay object at 0x7ff114d37190>\n"
          ]
        },
        {
          "output_type": "display_data",
          "data": {
            "text/plain": [
              "<Figure size 640x480 with 2 Axes>"
            ],
            "image/png": "[encoded data removed]"
          },
          "metadata": {}
        }
      ]
    },
    {
      "cell_type": "code",
      "source": [
        "knn = confusion_matrix(test_target, predicted)\n",
        "model_visual = ConfusionMatrixDisplay(knn, display_labels=['True', 'False'])"
      ],
      "metadata": {
        "id": "ewEi4GNrsmqR"
      },
      "execution_count": null,
      "outputs": []
    },
    {
      "cell_type": "code",
      "source": [
        "print(\"KNN:\\n\",model_visual.plot())"
      ],
      "metadata": {
        "colab": {
          "base_uri": "https://localhost:8080/",
          "height": 487
        },
        "id": "nBFZkXvgsR25",
        "outputId": "d8d806f7-94ea-44f6-91fd-9e5defeb0af8"
      },
      "execution_count": null,
      "outputs": [
        {
          "output_type": "stream",
          "name": "stdout",
          "text": [
            "KNN:\n",
            " <sklearn.metrics._plot.confusion_matrix.ConfusionMatrixDisplay object at 0x7ff114dbb340>\n"
          ]
        },
        {
          "output_type": "display_data",
          "data": {
            "text/plain": [
              "<Figure size 640x480 with 2 Axes>"
            ],
            "image/png": "[encoded data removed]"
          },
          "metadata": {}
        }
      ]
    },
    {
      "cell_type": "code",
      "source": [
        "cm = confusion_matrix(test_target, predictions)\n",
        "\n",
        "model_visual = ConfusionMatrixDisplay(cm, display_labels=['True', 'False'])"
      ],
      "metadata": {
        "id": "WRwgMFt5shRl"
      },
      "execution_count": null,
      "outputs": []
    },
    {
      "cell_type": "code",
      "source": [
        "print(\"C4.5:\\n\",model_visual.plot())"
      ],
      "metadata": {
        "colab": {
          "base_uri": "https://localhost:8080/",
          "height": 486
        },
        "id": "K3gxvxWUsNIL",
        "outputId": "29e7fe51-4686-4562-f550-e72b6a4df9d3"
      },
      "execution_count": null,
      "outputs": [
        {
          "output_type": "stream",
          "name": "stdout",
          "text": [
            "C4.5:\n",
            " <sklearn.metrics._plot.confusion_matrix.ConfusionMatrixDisplay object at 0x7ff114b42ce0>\n"
          ]
        },
        {
          "output_type": "display_data",
          "data": {
            "text/plain": [
              "<Figure size 640x480 with 2 Axes>"
            ],
            "image/png": "[encoded data removed]"
          },
          "metadata": {}
        }
      ]
    },
    {
      "cell_type": "markdown",
      "source": [
        "Berdasarkan hasil evaluasi, didapatkan bahwa:\n",
        "\n",
        "1. Algoritma untuk mencari pola pemberian pinjaman adalah C4.5, karena memiliki nilai presisi dan recall yang cukup baik, sehingga dapat menghasilkan pola yang akurat dan bisa digunakan untuk membuat keputusan dalam pemberian pinjaman.\n",
        "\n",
        "2. Algoritma untuk memprediksi calon penerima pinjaman adalah Naive Bayes, karena memiliki akurasi, presisi, recall, dan F1-score yang cukup tinggi, sehingga dapat menghasilkan prediksi yang akurat dan bisa digunakan untuk menentukan calon penerima pinjaman.\n",
        "\n",
        "3. Algoritma untuk mengklasifikasi penerima pinjaman adalah KNN, karena memiliki akurasi, presisi, recall, dan F1-score yang cukup baik, sehingga dapat mengklasifikasikan penerima pinjaman dengan akurat dan efektif.\n",
        "\n",
        "Namun pada evaluasi yang telah dilakukan terhadap tiga algoritma yaitu Naive Bayes, KNN, dan C4.5, terdapat perbedaan kinerja yang signifikan antara ketiganya. Dari nilai evaluasi tersebut, dapat disimpulkan bahwa algoritma yang paling baik kinerjanya untuk tujuan pada business understanding adalah Naive Bayes, karena memiliki akurasi dan precision yang cukup tinggi, serta nilai F1-score yang cukup seimbang. Algoritma ini cocok untuk mencari pola pemberian pinjaman dan memprediksi calon penerima pinjaman.\n",
        "\n",
        "Dan untuk mengklasifikasikan penerima pinjaman, bisa menggunakan KNN, karena memiliki nilai recall yang cukup tinggi. KNN juga dapat digunakan sebagai metode backup atau alternatif jika Naive Bayes tidak memberikan hasil yang memuaskan dalam mengklasifikasikan penerima pinjaman. Sedangkan, C4.5 yang memiliki kinerja paling rendah dari ketiga algoritma tersebut, sehingga sebaiknya algoritma ini tidak digunakan."
      ],
      "metadata": {
        "id": "mBlxeTTk-0Md"
      }
    },
    {
      "cell_type": "markdown",
      "source": [
        "## Deployment"
      ],
      "metadata": {
        "id": "nYxtrWe467gW"
      }
    },
    {
      "cell_type": "code",
      "source": [
        "from google.colab import drive\n",
        "drive.mount('/content/drive')"
      ],
      "metadata": {
        "colab": {
          "base_uri": "https://localhost:8080/",
          "height": 344
        },
        "id": "6toZu-Z2tNOD",
        "outputId": "55647c24-2314-4f32-8ce7-a12b96114cf5"
      },
      "execution_count": null,
      "outputs": [
        {
          "output_type": "error",
          "ename": "MessageError",
          "evalue": "ignored",
          "traceback": [
            "\u001b[0;31m---------------------------------------------------------------------------\u001b[0m",
            "\u001b[0;31mMessageError\u001b[0m                              Traceback (most recent call last)",
            "\u001b[0;32m<ipython-input-57-d5df0069828e>\u001b[0m in \u001b[0;36m<cell line: 2>\u001b[0;34m()\u001b[0m\n\u001b[1;32m      1\u001b[0m \u001b[0;32mfrom\u001b[0m \u001b[0mgoogle\u001b[0m\u001b[0;34m.\u001b[0m\u001b[0mcolab\u001b[0m \u001b[0;32mimport\u001b[0m \u001b[0mdrive\u001b[0m\u001b[0;34m\u001b[0m\u001b[0;34m\u001b[0m\u001b[0m\n\u001b[0;32m----> 2\u001b[0;31m \u001b[0mdrive\u001b[0m\u001b[0;34m.\u001b[0m\u001b[0mmount\u001b[0m\u001b[0;34m(\u001b[0m\u001b[0;34m'/content/drive'\u001b[0m\u001b[0;34m)\u001b[0m\u001b[0;34m\u001b[0m\u001b[0;34m\u001b[0m\u001b[0m\n\u001b[0m",
            "\u001b[0;32m/usr/local/lib/python3.10/dist-packages/google/colab/drive.py\u001b[0m in \u001b[0;36mmount\u001b[0;34m(mountpoint, force_remount, timeout_ms, readonly)\u001b[0m\n\u001b[1;32m    101\u001b[0m \u001b[0;32mdef\u001b[0m \u001b[0mmount\u001b[0m\u001b[0;34m(\u001b[0m\u001b[0mmountpoint\u001b[0m\u001b[0;34m,\u001b[0m \u001b[0mforce_remount\u001b[0m\u001b[0;34m=\u001b[0m\u001b[0;32mFalse\u001b[0m\u001b[0;34m,\u001b[0m \u001b[0mtimeout_ms\u001b[0m\u001b[0;34m=\u001b[0m\u001b[0;36m120000\u001b[0m\u001b[0;34m,\u001b[0m \u001b[0mreadonly\u001b[0m\u001b[0;34m=\u001b[0m\u001b[0;32mFalse\u001b[0m\u001b[0;34m)\u001b[0m\u001b[0;34m:\u001b[0m\u001b[0;34m\u001b[0m\u001b[0;34m\u001b[0m\u001b[0m\n\u001b[1;32m    102\u001b[0m   \u001b[0;34m\"\"\"Mount your Google Drive at the specified mountpoint path.\"\"\"\u001b[0m\u001b[0;34m\u001b[0m\u001b[0;34m\u001b[0m\u001b[0m\n\u001b[0;32m--> 103\u001b[0;31m   return _mount(\n\u001b[0m\u001b[1;32m    104\u001b[0m       \u001b[0mmountpoint\u001b[0m\u001b[0;34m,\u001b[0m\u001b[0;34m\u001b[0m\u001b[0;34m\u001b[0m\u001b[0m\n\u001b[1;32m    105\u001b[0m       \u001b[0mforce_remount\u001b[0m\u001b[0;34m=\u001b[0m\u001b[0mforce_remount\u001b[0m\u001b[0;34m,\u001b[0m\u001b[0;34m\u001b[0m\u001b[0;34m\u001b[0m\u001b[0m\n",
            "\u001b[0;32m/usr/local/lib/python3.10/dist-packages/google/colab/drive.py\u001b[0m in \u001b[0;36m_mount\u001b[0;34m(mountpoint, force_remount, timeout_ms, ephemeral, readonly)\u001b[0m\n\u001b[1;32m    130\u001b[0m   )\n\u001b[1;32m    131\u001b[0m   \u001b[0;32mif\u001b[0m \u001b[0mephemeral\u001b[0m\u001b[0;34m:\u001b[0m\u001b[0;34m\u001b[0m\u001b[0;34m\u001b[0m\u001b[0m\n\u001b[0;32m--> 132\u001b[0;31m     _message.blocking_request(\n\u001b[0m\u001b[1;32m    133\u001b[0m         \u001b[0;34m'request_auth'\u001b[0m\u001b[0;34m,\u001b[0m \u001b[0mrequest\u001b[0m\u001b[0;34m=\u001b[0m\u001b[0;34m{\u001b[0m\u001b[0;34m'authType'\u001b[0m\u001b[0;34m:\u001b[0m \u001b[0;34m'dfs_ephemeral'\u001b[0m\u001b[0;34m}\u001b[0m\u001b[0;34m,\u001b[0m \u001b[0mtimeout_sec\u001b[0m\u001b[0;34m=\u001b[0m\u001b[0;32mNone\u001b[0m\u001b[0;34m\u001b[0m\u001b[0;34m\u001b[0m\u001b[0m\n\u001b[1;32m    134\u001b[0m     )\n",
            "\u001b[0;32m/usr/local/lib/python3.10/dist-packages/google/colab/_message.py\u001b[0m in \u001b[0;36mblocking_request\u001b[0;34m(request_type, request, timeout_sec, parent)\u001b[0m\n\u001b[1;32m    174\u001b[0m       \u001b[0mrequest_type\u001b[0m\u001b[0;34m,\u001b[0m \u001b[0mrequest\u001b[0m\u001b[0;34m,\u001b[0m \u001b[0mparent\u001b[0m\u001b[0;34m=\u001b[0m\u001b[0mparent\u001b[0m\u001b[0;34m,\u001b[0m \u001b[0mexpect_reply\u001b[0m\u001b[0;34m=\u001b[0m\u001b[0;32mTrue\u001b[0m\u001b[0;34m\u001b[0m\u001b[0;34m\u001b[0m\u001b[0m\n\u001b[1;32m    175\u001b[0m   )\n\u001b[0;32m--> 176\u001b[0;31m   \u001b[0;32mreturn\u001b[0m \u001b[0mread_reply_from_input\u001b[0m\u001b[0;34m(\u001b[0m\u001b[0mrequest_id\u001b[0m\u001b[0;34m,\u001b[0m \u001b[0mtimeout_sec\u001b[0m\u001b[0;34m)\u001b[0m\u001b[0;34m\u001b[0m\u001b[0;34m\u001b[0m\u001b[0m\n\u001b[0m",
            "\u001b[0;32m/usr/local/lib/python3.10/dist-packages/google/colab/_message.py\u001b[0m in \u001b[0;36mread_reply_from_input\u001b[0;34m(message_id, timeout_sec)\u001b[0m\n\u001b[1;32m    101\u001b[0m     ):\n\u001b[1;32m    102\u001b[0m       \u001b[0;32mif\u001b[0m \u001b[0;34m'error'\u001b[0m \u001b[0;32min\u001b[0m \u001b[0mreply\u001b[0m\u001b[0;34m:\u001b[0m\u001b[0;34m\u001b[0m\u001b[0;34m\u001b[0m\u001b[0m\n\u001b[0;32m--> 103\u001b[0;31m         \u001b[0;32mraise\u001b[0m \u001b[0mMessageError\u001b[0m\u001b[0;34m(\u001b[0m\u001b[0mreply\u001b[0m\u001b[0;34m[\u001b[0m\u001b[0;34m'error'\u001b[0m\u001b[0;34m]\u001b[0m\u001b[0;34m)\u001b[0m\u001b[0;34m\u001b[0m\u001b[0;34m\u001b[0m\u001b[0m\n\u001b[0m\u001b[1;32m    104\u001b[0m       \u001b[0;32mreturn\u001b[0m \u001b[0mreply\u001b[0m\u001b[0;34m.\u001b[0m\u001b[0mget\u001b[0m\u001b[0;34m(\u001b[0m\u001b[0;34m'data'\u001b[0m\u001b[0;34m,\u001b[0m \u001b[0;32mNone\u001b[0m\u001b[0;34m)\u001b[0m\u001b[0;34m\u001b[0m\u001b[0;34m\u001b[0m\u001b[0m\n\u001b[1;32m    105\u001b[0m \u001b[0;34m\u001b[0m\u001b[0m\n",
            "\u001b[0;31mMessageError\u001b[0m: Error: credential propagation was unsuccessful"
          ]
        }
      ]
    },
    {
      "cell_type": "code",
      "source": [
        "# data.to_csv('/content/drive/MyDrive/PA_Kel3_DatMin/Data-Pinjaman-Nasabah-Deployment.csv', index=False)\n",
        "data.to_csv('/content/drive/MyDrive/PA_Kel3_DatMin/data_pinjaman_nasabah.csv', index=False)"
      ],
      "metadata": {
        "id": "oUYThOtO--Ao"
      },
      "execution_count": null,
      "outputs": []
    },
    {
      "cell_type": "code",
      "source": [
        "batas = \"-\"*180\n",
        "print(batas)"
      ],
      "metadata": {
        "id": "gU2Gz7Knlx-u"
      },
      "execution_count": null,
      "outputs": []
    }
  ]
}